{
 "cells": [
  {
   "cell_type": "code",
   "execution_count": 1,
   "metadata": {},
   "outputs": [
    {
     "name": "stderr",
     "output_type": "stream",
     "text": [
      "/home/mlyang721/miniconda3/envs/fast/lib/python3.12/site-packages/tqdm/auto.py:21: TqdmWarning: IProgress not found. Please update jupyter and ipywidgets. See https://ipywidgets.readthedocs.io/en/stable/user_install.html\n",
      "  from .autonotebook import tqdm as notebook_tqdm\n"
     ]
    },
    {
     "name": "stdout",
     "output_type": "stream",
     "text": [
      "DatasetDict({\n",
      "    test: Dataset({\n",
      "        features: ['task_id', 'prompt', 'canonical_solution', 'test', 'entry_point'],\n",
      "        num_rows: 164\n",
      "    })\n",
      "})\n"
     ]
    }
   ],
   "source": [
    "from datasets import load_dataset\n",
    "\n",
    "dataset = load_dataset(\"openai_humaneval\")\n",
    "print(dataset)"
   ]
  },
  {
   "cell_type": "code",
   "execution_count": 2,
   "metadata": {},
   "outputs": [],
   "source": [
    "import pandas as pd\n",
    "from datasets import load_dataset\n",
    "import random\n",
    "from tqdm import tqdm\n",
    "from transformers import AutoTokenizer, AutoModelForCausalLM\n",
    "import torch\n",
    "\n",
    "pd.set_option('display.max_columns', None)\n",
    "pd.set_option('display.width', 1000)\n",
    "pd.set_option('display.max_colwidth', None)"
   ]
  },
  {
   "cell_type": "code",
   "execution_count": 3,
   "metadata": {},
   "outputs": [
    {
     "data": {
      "text/html": [
       "<div>\n",
       "<style scoped>\n",
       "    .dataframe tbody tr th:only-of-type {\n",
       "        vertical-align: middle;\n",
       "    }\n",
       "\n",
       "    .dataframe tbody tr th {\n",
       "        vertical-align: top;\n",
       "    }\n",
       "\n",
       "    .dataframe thead th {\n",
       "        text-align: right;\n",
       "    }\n",
       "</style>\n",
       "<table border=\"1\" class=\"dataframe\">\n",
       "  <thead>\n",
       "    <tr style=\"text-align: right;\">\n",
       "      <th></th>\n",
       "      <th>task_id</th>\n",
       "      <th>prompt</th>\n",
       "      <th>canonical_solution</th>\n",
       "      <th>test</th>\n",
       "      <th>entry_point</th>\n",
       "    </tr>\n",
       "  </thead>\n",
       "  <tbody>\n",
       "    <tr>\n",
       "      <th>0</th>\n",
       "      <td>HumanEval/0</td>\n",
       "      <td>from typing import List\\n\\n\\ndef has_close_elements(numbers: List[float], threshold: float) -&gt; bool:\\n    \"\"\" Check if in given list of numbers, are any two numbers closer to each other than\\n    given threshold.\\n    &gt;&gt;&gt; has_close_elements([1.0, 2.0, 3.0], 0.5)\\n    False\\n    &gt;&gt;&gt; has_close_elements([1.0, 2.8, 3.0, 4.0, 5.0, 2.0], 0.3)\\n    True\\n    \"\"\"\\n</td>\n",
       "      <td>for idx, elem in enumerate(numbers):\\n        for idx2, elem2 in enumerate(numbers):\\n            if idx != idx2:\\n                distance = abs(elem - elem2)\\n                if distance &lt; threshold:\\n                    return True\\n\\n    return False\\n</td>\n",
       "      <td>\\n\\nMETADATA = {\\n    'author': 'jt',\\n    'dataset': 'test'\\n}\\n\\n\\ndef check(candidate):\\n    assert candidate([1.0, 2.0, 3.9, 4.0, 5.0, 2.2], 0.3) == True\\n    assert candidate([1.0, 2.0, 3.9, 4.0, 5.0, 2.2], 0.05) == False\\n    assert candidate([1.0, 2.0, 5.9, 4.0, 5.0], 0.95) == True\\n    assert candidate([1.0, 2.0, 5.9, 4.0, 5.0], 0.8) == False\\n    assert candidate([1.0, 2.0, 3.0, 4.0, 5.0, 2.0], 0.1) == True\\n    assert candidate([1.1, 2.2, 3.1, 4.1, 5.1], 1.0) == True\\n    assert candidate([1.1, 2.2, 3.1, 4.1, 5.1], 0.5) == False\\n\\n</td>\n",
       "      <td>has_close_elements</td>\n",
       "    </tr>\n",
       "    <tr>\n",
       "      <th>1</th>\n",
       "      <td>HumanEval/1</td>\n",
       "      <td>from typing import List\\n\\n\\ndef separate_paren_groups(paren_string: str) -&gt; List[str]:\\n    \"\"\" Input to this function is a string containing multiple groups of nested parentheses. Your goal is to\\n    separate those group into separate strings and return the list of those.\\n    Separate groups are balanced (each open brace is properly closed) and not nested within each other\\n    Ignore any spaces in the input string.\\n    &gt;&gt;&gt; separate_paren_groups('( ) (( )) (( )( ))')\\n    ['()', '(())', '(()())']\\n    \"\"\"\\n</td>\n",
       "      <td>result = []\\n    current_string = []\\n    current_depth = 0\\n\\n    for c in paren_string:\\n        if c == '(':\\n            current_depth += 1\\n            current_string.append(c)\\n        elif c == ')':\\n            current_depth -= 1\\n            current_string.append(c)\\n\\n            if current_depth == 0:\\n                result.append(''.join(current_string))\\n                current_string.clear()\\n\\n    return result\\n</td>\n",
       "      <td>\\n\\nMETADATA = {\\n    'author': 'jt',\\n    'dataset': 'test'\\n}\\n\\n\\ndef check(candidate):\\n    assert candidate('(()()) ((())) () ((())()())') == [\\n        '(()())', '((()))', '()', '((())()())'\\n    ]\\n    assert candidate('() (()) ((())) (((())))') == [\\n        '()', '(())', '((()))', '(((())))'\\n    ]\\n    assert candidate('(()(())((())))') == [\\n        '(()(())((())))'\\n    ]\\n    assert candidate('( ) (( )) (( )( ))') == ['()', '(())', '(()())']\\n</td>\n",
       "      <td>separate_paren_groups</td>\n",
       "    </tr>\n",
       "    <tr>\n",
       "      <th>2</th>\n",
       "      <td>HumanEval/2</td>\n",
       "      <td>\\n\\ndef truncate_number(number: float) -&gt; float:\\n    \"\"\" Given a positive floating point number, it can be decomposed into\\n    and integer part (largest integer smaller than given number) and decimals\\n    (leftover part always smaller than 1).\\n\\n    Return the decimal part of the number.\\n    &gt;&gt;&gt; truncate_number(3.5)\\n    0.5\\n    \"\"\"\\n</td>\n",
       "      <td>return number % 1.0\\n</td>\n",
       "      <td>\\n\\nMETADATA = {\\n    'author': 'jt',\\n    'dataset': 'test'\\n}\\n\\n\\ndef check(candidate):\\n    assert candidate(3.5) == 0.5\\n    assert abs(candidate(1.33) - 0.33) &lt; 1e-6\\n    assert abs(candidate(123.456) - 0.456) &lt; 1e-6\\n</td>\n",
       "      <td>truncate_number</td>\n",
       "    </tr>\n",
       "    <tr>\n",
       "      <th>3</th>\n",
       "      <td>HumanEval/3</td>\n",
       "      <td>from typing import List\\n\\n\\ndef below_zero(operations: List[int]) -&gt; bool:\\n    \"\"\" You're given a list of deposit and withdrawal operations on a bank account that starts with\\n    zero balance. Your task is to detect if at any point the balance of account fallls below zero, and\\n    at that point function should return True. Otherwise it should return False.\\n    &gt;&gt;&gt; below_zero([1, 2, 3])\\n    False\\n    &gt;&gt;&gt; below_zero([1, 2, -4, 5])\\n    True\\n    \"\"\"\\n</td>\n",
       "      <td>balance = 0\\n\\n    for op in operations:\\n        balance += op\\n        if balance &lt; 0:\\n            return True\\n\\n    return False\\n</td>\n",
       "      <td>\\n\\nMETADATA = {\\n    'author': 'jt',\\n    'dataset': 'test'\\n}\\n\\n\\ndef check(candidate):\\n    assert candidate([]) == False\\n    assert candidate([1, 2, -3, 1, 2, -3]) == False\\n    assert candidate([1, 2, -4, 5, 6]) == True\\n    assert candidate([1, -1, 2, -2, 5, -5, 4, -4]) == False\\n    assert candidate([1, -1, 2, -2, 5, -5, 4, -5]) == True\\n    assert candidate([1, -2, 2, -2, 5, -5, 4, -4]) == True\\n</td>\n",
       "      <td>below_zero</td>\n",
       "    </tr>\n",
       "    <tr>\n",
       "      <th>4</th>\n",
       "      <td>HumanEval/4</td>\n",
       "      <td>from typing import List\\n\\n\\ndef mean_absolute_deviation(numbers: List[float]) -&gt; float:\\n    \"\"\" For a given list of input numbers, calculate Mean Absolute Deviation\\n    around the mean of this dataset.\\n    Mean Absolute Deviation is the average absolute difference between each\\n    element and a centerpoint (mean in this case):\\n    MAD = average | x - x_mean |\\n    &gt;&gt;&gt; mean_absolute_deviation([1.0, 2.0, 3.0, 4.0])\\n    1.0\\n    \"\"\"\\n</td>\n",
       "      <td>mean = sum(numbers) / len(numbers)\\n    return sum(abs(x - mean) for x in numbers) / len(numbers)\\n</td>\n",
       "      <td>\\n\\nMETADATA = {\\n    'author': 'jt',\\n    'dataset': 'test'\\n}\\n\\n\\ndef check(candidate):\\n    assert abs(candidate([1.0, 2.0, 3.0]) - 2.0/3.0) &lt; 1e-6\\n    assert abs(candidate([1.0, 2.0, 3.0, 4.0]) - 1.0) &lt; 1e-6\\n    assert abs(candidate([1.0, 2.0, 3.0, 4.0, 5.0]) - 6.0/5.0) &lt; 1e-6\\n\\n</td>\n",
       "      <td>mean_absolute_deviation</td>\n",
       "    </tr>\n",
       "    <tr>\n",
       "      <th>...</th>\n",
       "      <td>...</td>\n",
       "      <td>...</td>\n",
       "      <td>...</td>\n",
       "      <td>...</td>\n",
       "      <td>...</td>\n",
       "    </tr>\n",
       "    <tr>\n",
       "      <th>159</th>\n",
       "      <td>HumanEval/159</td>\n",
       "      <td>\\ndef eat(number, need, remaining):\\n    \"\"\"\\n    You're a hungry rabbit, and you already have eaten a certain number of carrots,\\n    but now you need to eat more carrots to complete the day's meals.\\n    you should return an array of [ total number of eaten carrots after your meals,\\n                                    the number of carrots left after your meals ]\\n    if there are not enough remaining carrots, you will eat all remaining carrots, but will still be hungry.\\n    \\n    Example:\\n    * eat(5, 6, 10) -&gt; [11, 4]\\n    * eat(4, 8, 9) -&gt; [12, 1]\\n    * eat(1, 10, 10) -&gt; [11, 0]\\n    * eat(2, 11, 5) -&gt; [7, 0]\\n    \\n    Variables:\\n    @number : integer\\n        the number of carrots that you have eaten.\\n    @need : integer\\n        the number of carrots that you need to eat.\\n    @remaining : integer\\n        the number of remaining carrots thet exist in stock\\n    \\n    Constrain:\\n    * 0 &lt;= number &lt;= 1000\\n    * 0 &lt;= need &lt;= 1000\\n    * 0 &lt;= remaining &lt;= 1000\\n\\n    Have fun :)\\n    \"\"\"\\n</td>\n",
       "      <td>if(need &lt;= remaining):\\n        return [ number + need , remaining-need ]\\n    else:\\n        return [ number + remaining , 0]\\n</td>\n",
       "      <td>def check(candidate):\\n\\n    # Check some simple cases\\n    assert True, \"This prints if this assert fails 1 (good for debugging!)\"\\n    assert candidate(5, 6, 10) == [11, 4], \"Error\"\\n    assert candidate(4, 8, 9) == [12, 1], \"Error\"\\n    assert candidate(1, 10, 10) == [11, 0], \"Error\"\\n    assert candidate(2, 11, 5) == [7, 0], \"Error\"\\n\\n    # Check some edge cases that are easy to work out by hand.\\n    assert True, \"This prints if this assert fails 2 (also good for debugging!)\"\\n    assert candidate(4, 5, 7) == [9, 2], \"Error\"\\n    assert candidate(4, 5, 1) == [5, 0], \"Error\"\\n\\n</td>\n",
       "      <td>eat</td>\n",
       "    </tr>\n",
       "    <tr>\n",
       "      <th>160</th>\n",
       "      <td>HumanEval/160</td>\n",
       "      <td>\\ndef do_algebra(operator, operand):\\n    \"\"\"\\n    Given two lists operator, and operand. The first list has basic algebra operations, and \\n    the second list is a list of integers. Use the two given lists to build the algebric \\n    expression and return the evaluation of this expression.\\n\\n    The basic algebra operations:\\n    Addition ( + ) \\n    Subtraction ( - ) \\n    Multiplication ( * ) \\n    Floor division ( // ) \\n    Exponentiation ( ** ) \\n\\n    Example:\\n    operator['+', '*', '-']\\n    array = [2, 3, 4, 5]\\n    result = 2 + 3 * 4 - 5\\n    =&gt; result = 9\\n\\n    Note:\\n        The length of operator list is equal to the length of operand list minus one.\\n        Operand is a list of of non-negative integers.\\n        Operator list has at least one operator, and operand list has at least two operands.\\n\\n    \"\"\"\\n</td>\n",
       "      <td>expression = str(operand[0])\\n    for oprt, oprn in zip(operator, operand[1:]):\\n        expression+= oprt + str(oprn)\\n    return eval(expression)\\n</td>\n",
       "      <td>def check(candidate):\\n\\n    # Check some simple cases\\n    assert candidate(['**', '*', '+'], [2, 3, 4, 5]) == 37\\n    assert candidate(['+', '*', '-'], [2, 3, 4, 5]) == 9\\n    assert candidate(['//', '*'], [7, 3, 4]) == 8, \"This prints if this assert fails 1 (good for debugging!)\"\\n\\n    # Check some edge cases that are easy to work out by hand.\\n    assert True, \"This prints if this assert fails 2 (also good for debugging!)\"\\n\\n</td>\n",
       "      <td>do_algebra</td>\n",
       "    </tr>\n",
       "    <tr>\n",
       "      <th>161</th>\n",
       "      <td>HumanEval/161</td>\n",
       "      <td>\\ndef solve(s):\\n    \"\"\"You are given a string s.\\n    if s[i] is a letter, reverse its case from lower to upper or vise versa, \\n    otherwise keep it as it is.\\n    If the string contains no letters, reverse the string.\\n    The function should return the resulted string.\\n    Examples\\n    solve(\"1234\") = \"4321\"\\n    solve(\"ab\") = \"AB\"\\n    solve(\"#a@C\") = \"#A@c\"\\n    \"\"\"\\n</td>\n",
       "      <td>flg = 0\\n    idx = 0\\n    new_str = list(s)\\n    for i in s:\\n        if i.isalpha():\\n            new_str[idx] = i.swapcase()\\n            flg = 1\\n        idx += 1\\n    s = \"\"\\n    for i in new_str:\\n        s += i\\n    if flg == 0:\\n        return s[len(s)::-1]\\n    return s\\n</td>\n",
       "      <td>def check(candidate):\\n\\n    # Check some simple cases\\n    assert candidate(\"AsDf\") == \"aSdF\"\\n    assert candidate(\"1234\") == \"4321\"\\n    assert candidate(\"ab\") == \"AB\"\\n    assert candidate(\"#a@C\") == \"#A@c\"\\n    assert candidate(\"#AsdfW^45\") == \"#aSDFw^45\"\\n    assert candidate(\"#6@2\") == \"2@6#\"\\n\\n    # Check some edge cases that are easy to work out by hand.\\n    assert candidate(\"#$a^D\") == \"#$A^d\"\\n    assert candidate(\"#ccc\") == \"#CCC\"\\n\\n    # Don't remove this line:\\n</td>\n",
       "      <td>solve</td>\n",
       "    </tr>\n",
       "    <tr>\n",
       "      <th>162</th>\n",
       "      <td>HumanEval/162</td>\n",
       "      <td>\\ndef string_to_md5(text):\\n    \"\"\"\\n    Given a string 'text', return its md5 hash equivalent string.\\n    If 'text' is an empty string, return None.\\n\\n    &gt;&gt;&gt; string_to_md5('Hello world') == '3e25960a79dbc69b674cd4ec67a72c62'\\n    \"\"\"\\n</td>\n",
       "      <td>import hashlib\\n    return hashlib.md5(text.encode('ascii')).hexdigest() if text else None\\n</td>\n",
       "      <td>def check(candidate):\\n\\n    # Check some simple cases\\n    assert candidate('Hello world') == '3e25960a79dbc69b674cd4ec67a72c62'\\n    assert candidate('') == None\\n    assert candidate('A B C') == '0ef78513b0cb8cef12743f5aeb35f888'\\n    assert candidate('password') == '5f4dcc3b5aa765d61d8327deb882cf99'\\n\\n    # Check some edge cases that are easy to work out by hand.\\n    assert True\\n\\n</td>\n",
       "      <td>string_to_md5</td>\n",
       "    </tr>\n",
       "    <tr>\n",
       "      <th>163</th>\n",
       "      <td>HumanEval/163</td>\n",
       "      <td>\\ndef generate_integers(a, b):\\n    \"\"\"\\n    Given two positive integers a and b, return the even digits between a\\n    and b, in ascending order.\\n\\n    For example:\\n    generate_integers(2, 8) =&gt; [2, 4, 6, 8]\\n    generate_integers(8, 2) =&gt; [2, 4, 6, 8]\\n    generate_integers(10, 14) =&gt; []\\n    \"\"\"\\n</td>\n",
       "      <td>lower = max(2, min(a, b))\\n    upper = min(8, max(a, b))\\n\\n    return [i for i in range(lower, upper+1) if i % 2 == 0]\\n</td>\n",
       "      <td>def check(candidate):\\n\\n    # Check some simple cases\\n    assert candidate(2, 10) == [2, 4, 6, 8], \"Test 1\"\\n    assert candidate(10, 2) == [2, 4, 6, 8], \"Test 2\"\\n    assert candidate(132, 2) == [2, 4, 6, 8], \"Test 3\"\\n    assert candidate(17,89) == [], \"Test 4\"\\n\\n    # Check some edge cases that are easy to work out by hand.\\n    assert True, \"This prints if this assert fails 2 (also good for debugging!)\"\\n\\n</td>\n",
       "      <td>generate_integers</td>\n",
       "    </tr>\n",
       "  </tbody>\n",
       "</table>\n",
       "<p>164 rows × 5 columns</p>\n",
       "</div>"
      ],
      "text/plain": [
       "           task_id  \\\n",
       "0      HumanEval/0   \n",
       "1      HumanEval/1   \n",
       "2      HumanEval/2   \n",
       "3      HumanEval/3   \n",
       "4      HumanEval/4   \n",
       "..             ...   \n",
       "159  HumanEval/159   \n",
       "160  HumanEval/160   \n",
       "161  HumanEval/161   \n",
       "162  HumanEval/162   \n",
       "163  HumanEval/163   \n",
       "\n",
       "                                                                                                                                                                                                                                                                                                                                                                                                                                                                                                                                                                                                                                                                                                                                                                                                                                                                                                                                                                                                                                                        prompt  \\\n",
       "0                                                                                                                                                                                                                                                                                                                                                                                                                                                                                                                                                                                                                                                                                      from typing import List\\n\\n\\ndef has_close_elements(numbers: List[float], threshold: float) -> bool:\\n    \"\"\" Check if in given list of numbers, are any two numbers closer to each other than\\n    given threshold.\\n    >>> has_close_elements([1.0, 2.0, 3.0], 0.5)\\n    False\\n    >>> has_close_elements([1.0, 2.8, 3.0, 4.0, 5.0, 2.0], 0.3)\\n    True\\n    \"\"\"\\n   \n",
       "1                                                                                                                                                                                                                                                                                                                                                                                                                                                                                                                        from typing import List\\n\\n\\ndef separate_paren_groups(paren_string: str) -> List[str]:\\n    \"\"\" Input to this function is a string containing multiple groups of nested parentheses. Your goal is to\\n    separate those group into separate strings and return the list of those.\\n    Separate groups are balanced (each open brace is properly closed) and not nested within each other\\n    Ignore any spaces in the input string.\\n    >>> separate_paren_groups('( ) (( )) (( )( ))')\\n    ['()', '(())', '(()())']\\n    \"\"\"\\n   \n",
       "2                                                                                                                                                                                                                                                                                                                                                                                                                                                                                                                                                                                                                                                                                                       \\n\\ndef truncate_number(number: float) -> float:\\n    \"\"\" Given a positive floating point number, it can be decomposed into\\n    and integer part (largest integer smaller than given number) and decimals\\n    (leftover part always smaller than 1).\\n\\n    Return the decimal part of the number.\\n    >>> truncate_number(3.5)\\n    0.5\\n    \"\"\"\\n   \n",
       "3                                                                                                                                                                                                                                                                                                                                                                                                                                                                                                                                                                                 from typing import List\\n\\n\\ndef below_zero(operations: List[int]) -> bool:\\n    \"\"\" You're given a list of deposit and withdrawal operations on a bank account that starts with\\n    zero balance. Your task is to detect if at any point the balance of account fallls below zero, and\\n    at that point function should return True. Otherwise it should return False.\\n    >>> below_zero([1, 2, 3])\\n    False\\n    >>> below_zero([1, 2, -4, 5])\\n    True\\n    \"\"\"\\n   \n",
       "4                                                                                                                                                                                                                                                                                                                                                                                                                                                                                                                                                                                                   from typing import List\\n\\n\\ndef mean_absolute_deviation(numbers: List[float]) -> float:\\n    \"\"\" For a given list of input numbers, calculate Mean Absolute Deviation\\n    around the mean of this dataset.\\n    Mean Absolute Deviation is the average absolute difference between each\\n    element and a centerpoint (mean in this case):\\n    MAD = average | x - x_mean |\\n    >>> mean_absolute_deviation([1.0, 2.0, 3.0, 4.0])\\n    1.0\\n    \"\"\"\\n   \n",
       "..                                                                                                                                                                                                                                                                                                                                                                                                                                                                                                                                                                                                                                                                                                                                                                                                                                                                                                                                                                                                                                                         ...   \n",
       "159  \\ndef eat(number, need, remaining):\\n    \"\"\"\\n    You're a hungry rabbit, and you already have eaten a certain number of carrots,\\n    but now you need to eat more carrots to complete the day's meals.\\n    you should return an array of [ total number of eaten carrots after your meals,\\n                                    the number of carrots left after your meals ]\\n    if there are not enough remaining carrots, you will eat all remaining carrots, but will still be hungry.\\n    \\n    Example:\\n    * eat(5, 6, 10) -> [11, 4]\\n    * eat(4, 8, 9) -> [12, 1]\\n    * eat(1, 10, 10) -> [11, 0]\\n    * eat(2, 11, 5) -> [7, 0]\\n    \\n    Variables:\\n    @number : integer\\n        the number of carrots that you have eaten.\\n    @need : integer\\n        the number of carrots that you need to eat.\\n    @remaining : integer\\n        the number of remaining carrots thet exist in stock\\n    \\n    Constrain:\\n    * 0 <= number <= 1000\\n    * 0 <= need <= 1000\\n    * 0 <= remaining <= 1000\\n\\n    Have fun :)\\n    \"\"\"\\n   \n",
       "160                                                                                                                                                                                     \\ndef do_algebra(operator, operand):\\n    \"\"\"\\n    Given two lists operator, and operand. The first list has basic algebra operations, and \\n    the second list is a list of integers. Use the two given lists to build the algebric \\n    expression and return the evaluation of this expression.\\n\\n    The basic algebra operations:\\n    Addition ( + ) \\n    Subtraction ( - ) \\n    Multiplication ( * ) \\n    Floor division ( // ) \\n    Exponentiation ( ** ) \\n\\n    Example:\\n    operator['+', '*', '-']\\n    array = [2, 3, 4, 5]\\n    result = 2 + 3 * 4 - 5\\n    => result = 9\\n\\n    Note:\\n        The length of operator list is equal to the length of operand list minus one.\\n        Operand is a list of of non-negative integers.\\n        Operator list has at least one operator, and operand list has at least two operands.\\n\\n    \"\"\"\\n   \n",
       "161                                                                                                                                                                                                                                                                                                                                                                                                                                                                                                                                                                                                                                                                \\ndef solve(s):\\n    \"\"\"You are given a string s.\\n    if s[i] is a letter, reverse its case from lower to upper or vise versa, \\n    otherwise keep it as it is.\\n    If the string contains no letters, reverse the string.\\n    The function should return the resulted string.\\n    Examples\\n    solve(\"1234\") = \"4321\"\\n    solve(\"ab\") = \"AB\"\\n    solve(\"#a@C\") = \"#A@c\"\\n    \"\"\"\\n   \n",
       "162                                                                                                                                                                                                                                                                                                                                                                                                                                                                                                                                                                                                                                                                                                                                                                                                            \\ndef string_to_md5(text):\\n    \"\"\"\\n    Given a string 'text', return its md5 hash equivalent string.\\n    If 'text' is an empty string, return None.\\n\\n    >>> string_to_md5('Hello world') == '3e25960a79dbc69b674cd4ec67a72c62'\\n    \"\"\"\\n   \n",
       "163                                                                                                                                                                                                                                                                                                                                                                                                                                                                                                                                                                                                                                                                                                                                           \\ndef generate_integers(a, b):\\n    \"\"\"\\n    Given two positive integers a and b, return the even digits between a\\n    and b, in ascending order.\\n\\n    For example:\\n    generate_integers(2, 8) => [2, 4, 6, 8]\\n    generate_integers(8, 2) => [2, 4, 6, 8]\\n    generate_integers(10, 14) => []\\n    \"\"\"\\n   \n",
       "\n",
       "                                                                                                                                                                                                                                                                                                                                                                                                                                       canonical_solution  \\\n",
       "0                                                                                                                                                                                        for idx, elem in enumerate(numbers):\\n        for idx2, elem2 in enumerate(numbers):\\n            if idx != idx2:\\n                distance = abs(elem - elem2)\\n                if distance < threshold:\\n                    return True\\n\\n    return False\\n   \n",
       "1        result = []\\n    current_string = []\\n    current_depth = 0\\n\\n    for c in paren_string:\\n        if c == '(':\\n            current_depth += 1\\n            current_string.append(c)\\n        elif c == ')':\\n            current_depth -= 1\\n            current_string.append(c)\\n\\n            if current_depth == 0:\\n                result.append(''.join(current_string))\\n                current_string.clear()\\n\\n    return result\\n   \n",
       "2                                                                                                                                                                                                                                                                                                                                                                                                                                   return number % 1.0\\n   \n",
       "3                                                                                                                                                                                                                                                                                                                 balance = 0\\n\\n    for op in operations:\\n        balance += op\\n        if balance < 0:\\n            return True\\n\\n    return False\\n   \n",
       "4                                                                                                                                                                                                                                                                                                                                                     mean = sum(numbers) / len(numbers)\\n    return sum(abs(x - mean) for x in numbers) / len(numbers)\\n   \n",
       "..                                                                                                                                                                                                                                                                                                                                                                                                                                                    ...   \n",
       "159                                                                                                                                                                                                                                                                                                                      if(need <= remaining):\\n        return [ number + need , remaining-need ]\\n    else:\\n        return [ number + remaining , 0]\\n   \n",
       "160                                                                                                                                                                                                                                                                                                 expression = str(operand[0])\\n    for oprt, oprn in zip(operator, operand[1:]):\\n        expression+= oprt + str(oprn)\\n    return eval(expression)\\n   \n",
       "161                                                                                                                                                              flg = 0\\n    idx = 0\\n    new_str = list(s)\\n    for i in s:\\n        if i.isalpha():\\n            new_str[idx] = i.swapcase()\\n            flg = 1\\n        idx += 1\\n    s = \"\"\\n    for i in new_str:\\n        s += i\\n    if flg == 0:\\n        return s[len(s)::-1]\\n    return s\\n   \n",
       "162                                                                                                                                                                                                                                                                                                                                                          import hashlib\\n    return hashlib.md5(text.encode('ascii')).hexdigest() if text else None\\n   \n",
       "163                                                                                                                                                                                                                                                                                                                             lower = max(2, min(a, b))\\n    upper = min(8, max(a, b))\\n\\n    return [i for i in range(lower, upper+1) if i % 2 == 0]\\n   \n",
       "\n",
       "                                                                                                                                                                                                                                                                                                                                                                                                                                                                                                                                                                                                               test              entry_point  \n",
       "0                                              \\n\\nMETADATA = {\\n    'author': 'jt',\\n    'dataset': 'test'\\n}\\n\\n\\ndef check(candidate):\\n    assert candidate([1.0, 2.0, 3.9, 4.0, 5.0, 2.2], 0.3) == True\\n    assert candidate([1.0, 2.0, 3.9, 4.0, 5.0, 2.2], 0.05) == False\\n    assert candidate([1.0, 2.0, 5.9, 4.0, 5.0], 0.95) == True\\n    assert candidate([1.0, 2.0, 5.9, 4.0, 5.0], 0.8) == False\\n    assert candidate([1.0, 2.0, 3.0, 4.0, 5.0, 2.0], 0.1) == True\\n    assert candidate([1.1, 2.2, 3.1, 4.1, 5.1], 1.0) == True\\n    assert candidate([1.1, 2.2, 3.1, 4.1, 5.1], 0.5) == False\\n\\n       has_close_elements  \n",
       "1                                                                                                                                      \\n\\nMETADATA = {\\n    'author': 'jt',\\n    'dataset': 'test'\\n}\\n\\n\\ndef check(candidate):\\n    assert candidate('(()()) ((())) () ((())()())') == [\\n        '(()())', '((()))', '()', '((())()())'\\n    ]\\n    assert candidate('() (()) ((())) (((())))') == [\\n        '()', '(())', '((()))', '(((())))'\\n    ]\\n    assert candidate('(()(())((())))') == [\\n        '(()(())((())))'\\n    ]\\n    assert candidate('( ) (( )) (( )( ))') == ['()', '(())', '(()())']\\n    separate_paren_groups  \n",
       "2                                                                                                                                                                                                                                                                                                                                                                                  \\n\\nMETADATA = {\\n    'author': 'jt',\\n    'dataset': 'test'\\n}\\n\\n\\ndef check(candidate):\\n    assert candidate(3.5) == 0.5\\n    assert abs(candidate(1.33) - 0.33) < 1e-6\\n    assert abs(candidate(123.456) - 0.456) < 1e-6\\n          truncate_number  \n",
       "3                                                                                                                                                                                         \\n\\nMETADATA = {\\n    'author': 'jt',\\n    'dataset': 'test'\\n}\\n\\n\\ndef check(candidate):\\n    assert candidate([]) == False\\n    assert candidate([1, 2, -3, 1, 2, -3]) == False\\n    assert candidate([1, 2, -4, 5, 6]) == True\\n    assert candidate([1, -1, 2, -2, 5, -5, 4, -4]) == False\\n    assert candidate([1, -1, 2, -2, 5, -5, 4, -5]) == True\\n    assert candidate([1, -2, 2, -2, 5, -5, 4, -4]) == True\\n               below_zero  \n",
       "4                                                                                                                                                                                                                                                                                                                  \\n\\nMETADATA = {\\n    'author': 'jt',\\n    'dataset': 'test'\\n}\\n\\n\\ndef check(candidate):\\n    assert abs(candidate([1.0, 2.0, 3.0]) - 2.0/3.0) < 1e-6\\n    assert abs(candidate([1.0, 2.0, 3.0, 4.0]) - 1.0) < 1e-6\\n    assert abs(candidate([1.0, 2.0, 3.0, 4.0, 5.0]) - 6.0/5.0) < 1e-6\\n\\n  mean_absolute_deviation  \n",
       "..                                                                                                                                                                                                                                                                                                                                                                                                                                                                                                                                                                                                              ...                      ...  \n",
       "159  def check(candidate):\\n\\n    # Check some simple cases\\n    assert True, \"This prints if this assert fails 1 (good for debugging!)\"\\n    assert candidate(5, 6, 10) == [11, 4], \"Error\"\\n    assert candidate(4, 8, 9) == [12, 1], \"Error\"\\n    assert candidate(1, 10, 10) == [11, 0], \"Error\"\\n    assert candidate(2, 11, 5) == [7, 0], \"Error\"\\n\\n    # Check some edge cases that are easy to work out by hand.\\n    assert True, \"This prints if this assert fails 2 (also good for debugging!)\"\\n    assert candidate(4, 5, 7) == [9, 2], \"Error\"\\n    assert candidate(4, 5, 1) == [5, 0], \"Error\"\\n\\n                      eat  \n",
       "160                                                                                                                                                             def check(candidate):\\n\\n    # Check some simple cases\\n    assert candidate(['**', '*', '+'], [2, 3, 4, 5]) == 37\\n    assert candidate(['+', '*', '-'], [2, 3, 4, 5]) == 9\\n    assert candidate(['//', '*'], [7, 3, 4]) == 8, \"This prints if this assert fails 1 (good for debugging!)\"\\n\\n    # Check some edge cases that are easy to work out by hand.\\n    assert True, \"This prints if this assert fails 2 (also good for debugging!)\"\\n\\n               do_algebra  \n",
       "161                                                                                                             def check(candidate):\\n\\n    # Check some simple cases\\n    assert candidate(\"AsDf\") == \"aSdF\"\\n    assert candidate(\"1234\") == \"4321\"\\n    assert candidate(\"ab\") == \"AB\"\\n    assert candidate(\"#a@C\") == \"#A@c\"\\n    assert candidate(\"#AsdfW^45\") == \"#aSDFw^45\"\\n    assert candidate(\"#6@2\") == \"2@6#\"\\n\\n    # Check some edge cases that are easy to work out by hand.\\n    assert candidate(\"#$a^D\") == \"#$A^d\"\\n    assert candidate(\"#ccc\") == \"#CCC\"\\n\\n    # Don't remove this line:\\n                    solve  \n",
       "162                                                                                                                                                                                                         def check(candidate):\\n\\n    # Check some simple cases\\n    assert candidate('Hello world') == '3e25960a79dbc69b674cd4ec67a72c62'\\n    assert candidate('') == None\\n    assert candidate('A B C') == '0ef78513b0cb8cef12743f5aeb35f888'\\n    assert candidate('password') == '5f4dcc3b5aa765d61d8327deb882cf99'\\n\\n    # Check some edge cases that are easy to work out by hand.\\n    assert True\\n\\n            string_to_md5  \n",
       "163                                                                                                                                                                               def check(candidate):\\n\\n    # Check some simple cases\\n    assert candidate(2, 10) == [2, 4, 6, 8], \"Test 1\"\\n    assert candidate(10, 2) == [2, 4, 6, 8], \"Test 2\"\\n    assert candidate(132, 2) == [2, 4, 6, 8], \"Test 3\"\\n    assert candidate(17,89) == [], \"Test 4\"\\n\\n    # Check some edge cases that are easy to work out by hand.\\n    assert True, \"This prints if this assert fails 2 (also good for debugging!)\"\\n\\n        generate_integers  \n",
       "\n",
       "[164 rows x 5 columns]"
      ]
     },
     "metadata": {},
     "output_type": "display_data"
    }
   ],
   "source": [
    "dataset = load_dataset(\"openai_humaneval\")\n",
    "num_samples = 164\n",
    "\n",
    "data = []\n",
    "\n",
    "for i in range(num_samples):\n",
    "    sample_data = {\n",
    "        \"task_id\": dataset[\"test\"][i][\"task_id\"],\n",
    "        \"prompt\": dataset[\"test\"][i][\"prompt\"],\n",
    "        \"canonical_solution\": dataset[\"test\"][i][\"canonical_solution\"],\n",
    "        \"test\": dataset[\"test\"][i][\"test\"],\n",
    "        \"entry_point\": dataset[\"test\"][i][\"entry_point\"]\n",
    "    }\n",
    "    data.append(sample_data)\n",
    "original_df = pd.DataFrame(data)\n",
    "display(original_df)\n"
   ]
  },
  {
   "cell_type": "code",
   "execution_count": 7,
   "metadata": {},
   "outputs": [
    {
     "data": {
      "text/html": [
       "<div>\n",
       "<style scoped>\n",
       "    .dataframe tbody tr th:only-of-type {\n",
       "        vertical-align: middle;\n",
       "    }\n",
       "\n",
       "    .dataframe tbody tr th {\n",
       "        vertical-align: top;\n",
       "    }\n",
       "\n",
       "    .dataframe thead th {\n",
       "        text-align: right;\n",
       "    }\n",
       "</style>\n",
       "<table border=\"1\" class=\"dataframe\">\n",
       "  <thead>\n",
       "    <tr style=\"text-align: right;\">\n",
       "      <th></th>\n",
       "      <th>task_id</th>\n",
       "      <th>prompt</th>\n",
       "      <th>canonical_solution</th>\n",
       "      <th>test</th>\n",
       "      <th>entry_point</th>\n",
       "      <th>masked</th>\n",
       "    </tr>\n",
       "  </thead>\n",
       "  <tbody>\n",
       "    <tr>\n",
       "      <th>0</th>\n",
       "      <td>HumanEval/0</td>\n",
       "      <td>from typing import List\\n\\n\\ndef has_close_elements(numbers: List[float], threshold: float) -&gt; bool:\\n    \"\"\" Check if in given list of numbers, are any two numbers closer to each other than\\n    given threshold.\\n    &gt;&gt;&gt; has_close_elements([1.0, 2.0, 3.0], 0.5)\\n    False\\n    &gt;&gt;&gt; has_close_elements([1.0, 2.8, 3.0, 4.0, 5.0, 2.0], 0.3)\\n    True\\n    \"\"\"\\n</td>\n",
       "      <td>for idx, elem in enumerate(numbers):\\n        for idx2, elem2 in enumerate(numbers):\\n            if idx != idx2:\\n                distance = abs(elem - elem2)\\n                if distance &lt; threshold:\\n                    return True\\n\\n    return False\\n</td>\n",
       "      <td>\\n\\nMETADATA = {\\n    'author': 'jt',\\n    'dataset': 'test'\\n}\\n\\n\\ndef check(candidate):\\n    assert candidate([1.0, 2.0, 3.9, 4.0, 5.0, 2.2], 0.3) == True\\n    assert candidate([1.0, 2.0, 3.9, 4.0, 5.0, 2.2], 0.05) == False\\n    assert candidate([1.0, 2.0, 5.9, 4.0, 5.0], 0.95) == True\\n    assert candidate([1.0, 2.0, 5.9, 4.0, 5.0], 0.8) == False\\n    assert candidate([1.0, 2.0, 3.0, 4.0, 5.0, 2.0], 0.1) == True\\n    assert candidate([1.1, 2.2, 3.1, 4.1, 5.1], 1.0) == True\\n    assert candidate([1.1, 2.2, 3.1, 4.1, 5.1], 0.5) == False\\n\\n</td>\n",
       "      <td>has_close_elements</td>\n",
       "      <td>for idx, elem in enumerate(numbers): for idx2, elem2 in enumerate(numbers): if idx != idx2: distance = abs(elem    distance &lt; threshold: return True return False</td>\n",
       "    </tr>\n",
       "    <tr>\n",
       "      <th>1</th>\n",
       "      <td>HumanEval/1</td>\n",
       "      <td>from typing import List\\n\\n\\ndef separate_paren_groups(paren_string: str) -&gt; List[str]:\\n    \"\"\" Input to this function is a string containing multiple groups of nested parentheses. Your goal is to\\n    separate those group into separate strings and return the list of those.\\n    Separate groups are balanced (each open brace is properly closed) and not nested within each other\\n    Ignore any spaces in the input string.\\n    &gt;&gt;&gt; separate_paren_groups('( ) (( )) (( )( ))')\\n    ['()', '(())', '(()())']\\n    \"\"\"\\n</td>\n",
       "      <td>result = []\\n    current_string = []\\n    current_depth = 0\\n\\n    for c in paren_string:\\n        if c == '(':\\n            current_depth += 1\\n            current_string.append(c)\\n        elif c == ')':\\n            current_depth -= 1\\n            current_string.append(c)\\n\\n            if current_depth == 0:\\n                result.append(''.join(current_string))\\n                current_string.clear()\\n\\n    return result\\n</td>\n",
       "      <td>\\n\\nMETADATA = {\\n    'author': 'jt',\\n    'dataset': 'test'\\n}\\n\\n\\ndef check(candidate):\\n    assert candidate('(()()) ((())) () ((())()())') == [\\n        '(()())', '((()))', '()', '((())()())'\\n    ]\\n    assert candidate('() (()) ((())) (((())))') == [\\n        '()', '(())', '((()))', '(((())))'\\n    ]\\n    assert candidate('(()(())((())))') == [\\n        '(()(())((())))'\\n    ]\\n    assert candidate('( ) (( )) (( )( ))') == ['()', '(())', '(()())']\\n</td>\n",
       "      <td>separate_paren_groups</td>\n",
       "      <td>result     [] current_depth = 0 for c in paren_string: if c == '(': current_depth += 1 current_string.append(c) elif c == ')': current_depth -= 1 current_string.append(c) if current_depth == 0: result.append(''.join(current_string)) current_string.clear() return result</td>\n",
       "    </tr>\n",
       "    <tr>\n",
       "      <th>2</th>\n",
       "      <td>HumanEval/2</td>\n",
       "      <td>\\n\\ndef truncate_number(number: float) -&gt; float:\\n    \"\"\" Given a positive floating point number, it can be decomposed into\\n    and integer part (largest integer smaller than given number) and decimals\\n    (leftover part always smaller than 1).\\n\\n    Return the decimal part of the number.\\n    &gt;&gt;&gt; truncate_number(3.5)\\n    0.5\\n    \"\"\"\\n</td>\n",
       "      <td>return number % 1.0\\n</td>\n",
       "      <td>\\n\\nMETADATA = {\\n    'author': 'jt',\\n    'dataset': 'test'\\n}\\n\\n\\ndef check(candidate):\\n    assert candidate(3.5) == 0.5\\n    assert abs(candidate(1.33) - 0.33) &lt; 1e-6\\n    assert abs(candidate(123.456) - 0.456) &lt; 1e-6\\n</td>\n",
       "      <td>truncate_number</td>\n",
       "      <td>number % 1.0</td>\n",
       "    </tr>\n",
       "    <tr>\n",
       "      <th>3</th>\n",
       "      <td>HumanEval/3</td>\n",
       "      <td>from typing import List\\n\\n\\ndef below_zero(operations: List[int]) -&gt; bool:\\n    \"\"\" You're given a list of deposit and withdrawal operations on a bank account that starts with\\n    zero balance. Your task is to detect if at any point the balance of account fallls below zero, and\\n    at that point function should return True. Otherwise it should return False.\\n    &gt;&gt;&gt; below_zero([1, 2, 3])\\n    False\\n    &gt;&gt;&gt; below_zero([1, 2, -4, 5])\\n    True\\n    \"\"\"\\n</td>\n",
       "      <td>balance = 0\\n\\n    for op in operations:\\n        balance += op\\n        if balance &lt; 0:\\n            return True\\n\\n    return False\\n</td>\n",
       "      <td>\\n\\nMETADATA = {\\n    'author': 'jt',\\n    'dataset': 'test'\\n}\\n\\n\\ndef check(candidate):\\n    assert candidate([]) == False\\n    assert candidate([1, 2, -3, 1, 2, -3]) == False\\n    assert candidate([1, 2, -4, 5, 6]) == True\\n    assert candidate([1, -1, 2, -2, 5, -5, 4, -4]) == False\\n    assert candidate([1, -1, 2, -2, 5, -5, 4, -5]) == True\\n    assert candidate([1, -2, 2, -2, 5, -5, 4, -4]) == True\\n</td>\n",
       "      <td>below_zero</td>\n",
       "      <td>balance = 0 for op in operations: balance += op if balance &lt; 0: return True</td>\n",
       "    </tr>\n",
       "    <tr>\n",
       "      <th>4</th>\n",
       "      <td>HumanEval/4</td>\n",
       "      <td>from typing import List\\n\\n\\ndef mean_absolute_deviation(numbers: List[float]) -&gt; float:\\n    \"\"\" For a given list of input numbers, calculate Mean Absolute Deviation\\n    around the mean of this dataset.\\n    Mean Absolute Deviation is the average absolute difference between each\\n    element and a centerpoint (mean in this case):\\n    MAD = average | x - x_mean |\\n    &gt;&gt;&gt; mean_absolute_deviation([1.0, 2.0, 3.0, 4.0])\\n    1.0\\n    \"\"\"\\n</td>\n",
       "      <td>mean = sum(numbers) / len(numbers)\\n    return sum(abs(x - mean) for x in numbers) / len(numbers)\\n</td>\n",
       "      <td>\\n\\nMETADATA = {\\n    'author': 'jt',\\n    'dataset': 'test'\\n}\\n\\n\\ndef check(candidate):\\n    assert abs(candidate([1.0, 2.0, 3.0]) - 2.0/3.0) &lt; 1e-6\\n    assert abs(candidate([1.0, 2.0, 3.0, 4.0]) - 1.0) &lt; 1e-6\\n    assert abs(candidate([1.0, 2.0, 3.0, 4.0, 5.0]) - 6.0/5.0) &lt; 1e-6\\n\\n</td>\n",
       "      <td>mean_absolute_deviation</td>\n",
       "      <td>mean = sum(numbers) / len(numbers) return sum(abs(x - mean) for x in numbers)</td>\n",
       "    </tr>\n",
       "    <tr>\n",
       "      <th>...</th>\n",
       "      <td>...</td>\n",
       "      <td>...</td>\n",
       "      <td>...</td>\n",
       "      <td>...</td>\n",
       "      <td>...</td>\n",
       "      <td>...</td>\n",
       "    </tr>\n",
       "    <tr>\n",
       "      <th>159</th>\n",
       "      <td>HumanEval/159</td>\n",
       "      <td>\\ndef eat(number, need, remaining):\\n    \"\"\"\\n    You're a hungry rabbit, and you already have eaten a certain number of carrots,\\n    but now you need to eat more carrots to complete the day's meals.\\n    you should return an array of [ total number of eaten carrots after your meals,\\n                                    the number of carrots left after your meals ]\\n    if there are not enough remaining carrots, you will eat all remaining carrots, but will still be hungry.\\n    \\n    Example:\\n    * eat(5, 6, 10) -&gt; [11, 4]\\n    * eat(4, 8, 9) -&gt; [12, 1]\\n    * eat(1, 10, 10) -&gt; [11, 0]\\n    * eat(2, 11, 5) -&gt; [7, 0]\\n    \\n    Variables:\\n    @number : integer\\n        the number of carrots that you have eaten.\\n    @need : integer\\n        the number of carrots that you need to eat.\\n    @remaining : integer\\n        the number of remaining carrots thet exist in stock\\n    \\n    Constrain:\\n    * 0 &lt;= number &lt;= 1000\\n    * 0 &lt;= need &lt;= 1000\\n    * 0 &lt;= remaining &lt;= 1000\\n\\n    Have fun :)\\n    \"\"\"\\n</td>\n",
       "      <td>if(need &lt;= remaining):\\n        return [ number + need , remaining-need ]\\n    else:\\n        return [ number + remaining , 0]\\n</td>\n",
       "      <td>def check(candidate):\\n\\n    # Check some simple cases\\n    assert True, \"This prints if this assert fails 1 (good for debugging!)\"\\n    assert candidate(5, 6, 10) == [11, 4], \"Error\"\\n    assert candidate(4, 8, 9) == [12, 1], \"Error\"\\n    assert candidate(1, 10, 10) == [11, 0], \"Error\"\\n    assert candidate(2, 11, 5) == [7, 0], \"Error\"\\n\\n    # Check some edge cases that are easy to work out by hand.\\n    assert True, \"This prints if this assert fails 2 (also good for debugging!)\"\\n    assert candidate(4, 5, 7) == [9, 2], \"Error\"\\n    assert candidate(4, 5, 1) == [5, 0], \"Error\"\\n\\n</td>\n",
       "      <td>eat</td>\n",
       "      <td>if(need &lt;= remaining): return [ number + need , remaining-need ]   [ number + remaining , 0]</td>\n",
       "    </tr>\n",
       "    <tr>\n",
       "      <th>160</th>\n",
       "      <td>HumanEval/160</td>\n",
       "      <td>\\ndef do_algebra(operator, operand):\\n    \"\"\"\\n    Given two lists operator, and operand. The first list has basic algebra operations, and \\n    the second list is a list of integers. Use the two given lists to build the algebric \\n    expression and return the evaluation of this expression.\\n\\n    The basic algebra operations:\\n    Addition ( + ) \\n    Subtraction ( - ) \\n    Multiplication ( * ) \\n    Floor division ( // ) \\n    Exponentiation ( ** ) \\n\\n    Example:\\n    operator['+', '*', '-']\\n    array = [2, 3, 4, 5]\\n    result = 2 + 3 * 4 - 5\\n    =&gt; result = 9\\n\\n    Note:\\n        The length of operator list is equal to the length of operand list minus one.\\n        Operand is a list of of non-negative integers.\\n        Operator list has at least one operator, and operand list has at least two operands.\\n\\n    \"\"\"\\n</td>\n",
       "      <td>expression = str(operand[0])\\n    for oprt, oprn in zip(operator, operand[1:]):\\n        expression+= oprt + str(oprn)\\n    return eval(expression)\\n</td>\n",
       "      <td>def check(candidate):\\n\\n    # Check some simple cases\\n    assert candidate(['**', '*', '+'], [2, 3, 4, 5]) == 37\\n    assert candidate(['+', '*', '-'], [2, 3, 4, 5]) == 9\\n    assert candidate(['//', '*'], [7, 3, 4]) == 8, \"This prints if this assert fails 1 (good for debugging!)\"\\n\\n    # Check some edge cases that are easy to work out by hand.\\n    assert True, \"This prints if this assert fails 2 (also good for debugging!)\"\\n\\n</td>\n",
       "      <td>do_algebra</td>\n",
       "      <td>expression = str(operand[0]) for oprt,   zip(operator, operand[1:]): expression+= oprt + str(oprn) return eval(expression)</td>\n",
       "    </tr>\n",
       "    <tr>\n",
       "      <th>161</th>\n",
       "      <td>HumanEval/161</td>\n",
       "      <td>\\ndef solve(s):\\n    \"\"\"You are given a string s.\\n    if s[i] is a letter, reverse its case from lower to upper or vise versa, \\n    otherwise keep it as it is.\\n    If the string contains no letters, reverse the string.\\n    The function should return the resulted string.\\n    Examples\\n    solve(\"1234\") = \"4321\"\\n    solve(\"ab\") = \"AB\"\\n    solve(\"#a@C\") = \"#A@c\"\\n    \"\"\"\\n</td>\n",
       "      <td>flg = 0\\n    idx = 0\\n    new_str = list(s)\\n    for i in s:\\n        if i.isalpha():\\n            new_str[idx] = i.swapcase()\\n            flg = 1\\n        idx += 1\\n    s = \"\"\\n    for i in new_str:\\n        s += i\\n    if flg == 0:\\n        return s[len(s)::-1]\\n    return s\\n</td>\n",
       "      <td>def check(candidate):\\n\\n    # Check some simple cases\\n    assert candidate(\"AsDf\") == \"aSdF\"\\n    assert candidate(\"1234\") == \"4321\"\\n    assert candidate(\"ab\") == \"AB\"\\n    assert candidate(\"#a@C\") == \"#A@c\"\\n    assert candidate(\"#AsdfW^45\") == \"#aSDFw^45\"\\n    assert candidate(\"#6@2\") == \"2@6#\"\\n\\n    # Check some edge cases that are easy to work out by hand.\\n    assert candidate(\"#$a^D\") == \"#$A^d\"\\n    assert candidate(\"#ccc\") == \"#CCC\"\\n\\n    # Don't remove this line:\\n</td>\n",
       "      <td>solve</td>\n",
       "      <td>flg = 0 idx = 0 new_str = list(s) for i in s: if i.isalpha(): new_str[idx] = i.swapcase() flg =     s = \"\" for i in new_str: s += i if flg == 0: return s[len(s)::-1] return s</td>\n",
       "    </tr>\n",
       "    <tr>\n",
       "      <th>162</th>\n",
       "      <td>HumanEval/162</td>\n",
       "      <td>\\ndef string_to_md5(text):\\n    \"\"\"\\n    Given a string 'text', return its md5 hash equivalent string.\\n    If 'text' is an empty string, return None.\\n\\n    &gt;&gt;&gt; string_to_md5('Hello world') == '3e25960a79dbc69b674cd4ec67a72c62'\\n    \"\"\"\\n</td>\n",
       "      <td>import hashlib\\n    return hashlib.md5(text.encode('ascii')).hexdigest() if text else None\\n</td>\n",
       "      <td>def check(candidate):\\n\\n    # Check some simple cases\\n    assert candidate('Hello world') == '3e25960a79dbc69b674cd4ec67a72c62'\\n    assert candidate('') == None\\n    assert candidate('A B C') == '0ef78513b0cb8cef12743f5aeb35f888'\\n    assert candidate('password') == '5f4dcc3b5aa765d61d8327deb882cf99'\\n\\n    # Check some edge cases that are easy to work out by hand.\\n    assert True\\n\\n</td>\n",
       "      <td>string_to_md5</td>\n",
       "      <td>import hashlib return  if text else None</td>\n",
       "    </tr>\n",
       "    <tr>\n",
       "      <th>163</th>\n",
       "      <td>HumanEval/163</td>\n",
       "      <td>\\ndef generate_integers(a, b):\\n    \"\"\"\\n    Given two positive integers a and b, return the even digits between a\\n    and b, in ascending order.\\n\\n    For example:\\n    generate_integers(2, 8) =&gt; [2, 4, 6, 8]\\n    generate_integers(8, 2) =&gt; [2, 4, 6, 8]\\n    generate_integers(10, 14) =&gt; []\\n    \"\"\"\\n</td>\n",
       "      <td>lower = max(2, min(a, b))\\n    upper = min(8, max(a, b))\\n\\n    return [i for i in range(lower, upper+1) if i % 2 == 0]\\n</td>\n",
       "      <td>def check(candidate):\\n\\n    # Check some simple cases\\n    assert candidate(2, 10) == [2, 4, 6, 8], \"Test 1\"\\n    assert candidate(10, 2) == [2, 4, 6, 8], \"Test 2\"\\n    assert candidate(132, 2) == [2, 4, 6, 8], \"Test 3\"\\n    assert candidate(17,89) == [], \"Test 4\"\\n\\n    # Check some edge cases that are easy to work out by hand.\\n    assert True, \"This prints if this assert fails 2 (also good for debugging!)\"\\n\\n</td>\n",
       "      <td>generate_integers</td>\n",
       "      <td>lower = max(2, min(a, b)) upper =   b)) return [i for i in range(lower, upper+1) if i % 2 == 0]</td>\n",
       "    </tr>\n",
       "  </tbody>\n",
       "</table>\n",
       "<p>164 rows × 6 columns</p>\n",
       "</div>"
      ],
      "text/plain": [
       "           task_id  \\\n",
       "0      HumanEval/0   \n",
       "1      HumanEval/1   \n",
       "2      HumanEval/2   \n",
       "3      HumanEval/3   \n",
       "4      HumanEval/4   \n",
       "..             ...   \n",
       "159  HumanEval/159   \n",
       "160  HumanEval/160   \n",
       "161  HumanEval/161   \n",
       "162  HumanEval/162   \n",
       "163  HumanEval/163   \n",
       "\n",
       "                                                                                                                                                                                                                                                                                                                                                                                                                                                                                                                                                                                                                                                                                                                                                                                                                                                                                                                                                                                                                                                        prompt  \\\n",
       "0                                                                                                                                                                                                                                                                                                                                                                                                                                                                                                                                                                                                                                                                                      from typing import List\\n\\n\\ndef has_close_elements(numbers: List[float], threshold: float) -> bool:\\n    \"\"\" Check if in given list of numbers, are any two numbers closer to each other than\\n    given threshold.\\n    >>> has_close_elements([1.0, 2.0, 3.0], 0.5)\\n    False\\n    >>> has_close_elements([1.0, 2.8, 3.0, 4.0, 5.0, 2.0], 0.3)\\n    True\\n    \"\"\"\\n   \n",
       "1                                                                                                                                                                                                                                                                                                                                                                                                                                                                                                                        from typing import List\\n\\n\\ndef separate_paren_groups(paren_string: str) -> List[str]:\\n    \"\"\" Input to this function is a string containing multiple groups of nested parentheses. Your goal is to\\n    separate those group into separate strings and return the list of those.\\n    Separate groups are balanced (each open brace is properly closed) and not nested within each other\\n    Ignore any spaces in the input string.\\n    >>> separate_paren_groups('( ) (( )) (( )( ))')\\n    ['()', '(())', '(()())']\\n    \"\"\"\\n   \n",
       "2                                                                                                                                                                                                                                                                                                                                                                                                                                                                                                                                                                                                                                                                                                       \\n\\ndef truncate_number(number: float) -> float:\\n    \"\"\" Given a positive floating point number, it can be decomposed into\\n    and integer part (largest integer smaller than given number) and decimals\\n    (leftover part always smaller than 1).\\n\\n    Return the decimal part of the number.\\n    >>> truncate_number(3.5)\\n    0.5\\n    \"\"\"\\n   \n",
       "3                                                                                                                                                                                                                                                                                                                                                                                                                                                                                                                                                                                 from typing import List\\n\\n\\ndef below_zero(operations: List[int]) -> bool:\\n    \"\"\" You're given a list of deposit and withdrawal operations on a bank account that starts with\\n    zero balance. Your task is to detect if at any point the balance of account fallls below zero, and\\n    at that point function should return True. Otherwise it should return False.\\n    >>> below_zero([1, 2, 3])\\n    False\\n    >>> below_zero([1, 2, -4, 5])\\n    True\\n    \"\"\"\\n   \n",
       "4                                                                                                                                                                                                                                                                                                                                                                                                                                                                                                                                                                                                   from typing import List\\n\\n\\ndef mean_absolute_deviation(numbers: List[float]) -> float:\\n    \"\"\" For a given list of input numbers, calculate Mean Absolute Deviation\\n    around the mean of this dataset.\\n    Mean Absolute Deviation is the average absolute difference between each\\n    element and a centerpoint (mean in this case):\\n    MAD = average | x - x_mean |\\n    >>> mean_absolute_deviation([1.0, 2.0, 3.0, 4.0])\\n    1.0\\n    \"\"\"\\n   \n",
       "..                                                                                                                                                                                                                                                                                                                                                                                                                                                                                                                                                                                                                                                                                                                                                                                                                                                                                                                                                                                                                                                         ...   \n",
       "159  \\ndef eat(number, need, remaining):\\n    \"\"\"\\n    You're a hungry rabbit, and you already have eaten a certain number of carrots,\\n    but now you need to eat more carrots to complete the day's meals.\\n    you should return an array of [ total number of eaten carrots after your meals,\\n                                    the number of carrots left after your meals ]\\n    if there are not enough remaining carrots, you will eat all remaining carrots, but will still be hungry.\\n    \\n    Example:\\n    * eat(5, 6, 10) -> [11, 4]\\n    * eat(4, 8, 9) -> [12, 1]\\n    * eat(1, 10, 10) -> [11, 0]\\n    * eat(2, 11, 5) -> [7, 0]\\n    \\n    Variables:\\n    @number : integer\\n        the number of carrots that you have eaten.\\n    @need : integer\\n        the number of carrots that you need to eat.\\n    @remaining : integer\\n        the number of remaining carrots thet exist in stock\\n    \\n    Constrain:\\n    * 0 <= number <= 1000\\n    * 0 <= need <= 1000\\n    * 0 <= remaining <= 1000\\n\\n    Have fun :)\\n    \"\"\"\\n   \n",
       "160                                                                                                                                                                                     \\ndef do_algebra(operator, operand):\\n    \"\"\"\\n    Given two lists operator, and operand. The first list has basic algebra operations, and \\n    the second list is a list of integers. Use the two given lists to build the algebric \\n    expression and return the evaluation of this expression.\\n\\n    The basic algebra operations:\\n    Addition ( + ) \\n    Subtraction ( - ) \\n    Multiplication ( * ) \\n    Floor division ( // ) \\n    Exponentiation ( ** ) \\n\\n    Example:\\n    operator['+', '*', '-']\\n    array = [2, 3, 4, 5]\\n    result = 2 + 3 * 4 - 5\\n    => result = 9\\n\\n    Note:\\n        The length of operator list is equal to the length of operand list minus one.\\n        Operand is a list of of non-negative integers.\\n        Operator list has at least one operator, and operand list has at least two operands.\\n\\n    \"\"\"\\n   \n",
       "161                                                                                                                                                                                                                                                                                                                                                                                                                                                                                                                                                                                                                                                                \\ndef solve(s):\\n    \"\"\"You are given a string s.\\n    if s[i] is a letter, reverse its case from lower to upper or vise versa, \\n    otherwise keep it as it is.\\n    If the string contains no letters, reverse the string.\\n    The function should return the resulted string.\\n    Examples\\n    solve(\"1234\") = \"4321\"\\n    solve(\"ab\") = \"AB\"\\n    solve(\"#a@C\") = \"#A@c\"\\n    \"\"\"\\n   \n",
       "162                                                                                                                                                                                                                                                                                                                                                                                                                                                                                                                                                                                                                                                                                                                                                                                                            \\ndef string_to_md5(text):\\n    \"\"\"\\n    Given a string 'text', return its md5 hash equivalent string.\\n    If 'text' is an empty string, return None.\\n\\n    >>> string_to_md5('Hello world') == '3e25960a79dbc69b674cd4ec67a72c62'\\n    \"\"\"\\n   \n",
       "163                                                                                                                                                                                                                                                                                                                                                                                                                                                                                                                                                                                                                                                                                                                                           \\ndef generate_integers(a, b):\\n    \"\"\"\\n    Given two positive integers a and b, return the even digits between a\\n    and b, in ascending order.\\n\\n    For example:\\n    generate_integers(2, 8) => [2, 4, 6, 8]\\n    generate_integers(8, 2) => [2, 4, 6, 8]\\n    generate_integers(10, 14) => []\\n    \"\"\"\\n   \n",
       "\n",
       "                                                                                                                                                                                                                                                                                                                                                                                                                                       canonical_solution  \\\n",
       "0                                                                                                                                                                                        for idx, elem in enumerate(numbers):\\n        for idx2, elem2 in enumerate(numbers):\\n            if idx != idx2:\\n                distance = abs(elem - elem2)\\n                if distance < threshold:\\n                    return True\\n\\n    return False\\n   \n",
       "1        result = []\\n    current_string = []\\n    current_depth = 0\\n\\n    for c in paren_string:\\n        if c == '(':\\n            current_depth += 1\\n            current_string.append(c)\\n        elif c == ')':\\n            current_depth -= 1\\n            current_string.append(c)\\n\\n            if current_depth == 0:\\n                result.append(''.join(current_string))\\n                current_string.clear()\\n\\n    return result\\n   \n",
       "2                                                                                                                                                                                                                                                                                                                                                                                                                                   return number % 1.0\\n   \n",
       "3                                                                                                                                                                                                                                                                                                                 balance = 0\\n\\n    for op in operations:\\n        balance += op\\n        if balance < 0:\\n            return True\\n\\n    return False\\n   \n",
       "4                                                                                                                                                                                                                                                                                                                                                     mean = sum(numbers) / len(numbers)\\n    return sum(abs(x - mean) for x in numbers) / len(numbers)\\n   \n",
       "..                                                                                                                                                                                                                                                                                                                                                                                                                                                    ...   \n",
       "159                                                                                                                                                                                                                                                                                                                      if(need <= remaining):\\n        return [ number + need , remaining-need ]\\n    else:\\n        return [ number + remaining , 0]\\n   \n",
       "160                                                                                                                                                                                                                                                                                                 expression = str(operand[0])\\n    for oprt, oprn in zip(operator, operand[1:]):\\n        expression+= oprt + str(oprn)\\n    return eval(expression)\\n   \n",
       "161                                                                                                                                                              flg = 0\\n    idx = 0\\n    new_str = list(s)\\n    for i in s:\\n        if i.isalpha():\\n            new_str[idx] = i.swapcase()\\n            flg = 1\\n        idx += 1\\n    s = \"\"\\n    for i in new_str:\\n        s += i\\n    if flg == 0:\\n        return s[len(s)::-1]\\n    return s\\n   \n",
       "162                                                                                                                                                                                                                                                                                                                                                          import hashlib\\n    return hashlib.md5(text.encode('ascii')).hexdigest() if text else None\\n   \n",
       "163                                                                                                                                                                                                                                                                                                                             lower = max(2, min(a, b))\\n    upper = min(8, max(a, b))\\n\\n    return [i for i in range(lower, upper+1) if i % 2 == 0]\\n   \n",
       "\n",
       "                                                                                                                                                                                                                                                                                                                                                                                                                                                                                                                                                                                                               test              entry_point                                                                                                                                                                                                                                                                         masked  \n",
       "0                                              \\n\\nMETADATA = {\\n    'author': 'jt',\\n    'dataset': 'test'\\n}\\n\\n\\ndef check(candidate):\\n    assert candidate([1.0, 2.0, 3.9, 4.0, 5.0, 2.2], 0.3) == True\\n    assert candidate([1.0, 2.0, 3.9, 4.0, 5.0, 2.2], 0.05) == False\\n    assert candidate([1.0, 2.0, 5.9, 4.0, 5.0], 0.95) == True\\n    assert candidate([1.0, 2.0, 5.9, 4.0, 5.0], 0.8) == False\\n    assert candidate([1.0, 2.0, 3.0, 4.0, 5.0, 2.0], 0.1) == True\\n    assert candidate([1.1, 2.2, 3.1, 4.1, 5.1], 1.0) == True\\n    assert candidate([1.1, 2.2, 3.1, 4.1, 5.1], 0.5) == False\\n\\n       has_close_elements                                                                                                              for idx, elem in enumerate(numbers): for idx2, elem2 in enumerate(numbers): if idx != idx2: distance = abs(elem    distance < threshold: return True return False  \n",
       "1                                                                                                                                      \\n\\nMETADATA = {\\n    'author': 'jt',\\n    'dataset': 'test'\\n}\\n\\n\\ndef check(candidate):\\n    assert candidate('(()()) ((())) () ((())()())') == [\\n        '(()())', '((()))', '()', '((())()())'\\n    ]\\n    assert candidate('() (()) ((())) (((())))') == [\\n        '()', '(())', '((()))', '(((())))'\\n    ]\\n    assert candidate('(()(())((())))') == [\\n        '(()(())((())))'\\n    ]\\n    assert candidate('( ) (( )) (( )( ))') == ['()', '(())', '(()())']\\n    separate_paren_groups  result     [] current_depth = 0 for c in paren_string: if c == '(': current_depth += 1 current_string.append(c) elif c == ')': current_depth -= 1 current_string.append(c) if current_depth == 0: result.append(''.join(current_string)) current_string.clear() return result  \n",
       "2                                                                                                                                                                                                                                                                                                                                                                                  \\n\\nMETADATA = {\\n    'author': 'jt',\\n    'dataset': 'test'\\n}\\n\\n\\ndef check(candidate):\\n    assert candidate(3.5) == 0.5\\n    assert abs(candidate(1.33) - 0.33) < 1e-6\\n    assert abs(candidate(123.456) - 0.456) < 1e-6\\n          truncate_number                                                                                                                                                                                                                                                                   number % 1.0  \n",
       "3                                                                                                                                                                                         \\n\\nMETADATA = {\\n    'author': 'jt',\\n    'dataset': 'test'\\n}\\n\\n\\ndef check(candidate):\\n    assert candidate([]) == False\\n    assert candidate([1, 2, -3, 1, 2, -3]) == False\\n    assert candidate([1, 2, -4, 5, 6]) == True\\n    assert candidate([1, -1, 2, -2, 5, -5, 4, -4]) == False\\n    assert candidate([1, -1, 2, -2, 5, -5, 4, -5]) == True\\n    assert candidate([1, -2, 2, -2, 5, -5, 4, -4]) == True\\n               below_zero                                                                                                                                                                                                  balance = 0 for op in operations: balance += op if balance < 0: return True    \n",
       "4                                                                                                                                                                                                                                                                                                                  \\n\\nMETADATA = {\\n    'author': 'jt',\\n    'dataset': 'test'\\n}\\n\\n\\ndef check(candidate):\\n    assert abs(candidate([1.0, 2.0, 3.0]) - 2.0/3.0) < 1e-6\\n    assert abs(candidate([1.0, 2.0, 3.0, 4.0]) - 1.0) < 1e-6\\n    assert abs(candidate([1.0, 2.0, 3.0, 4.0, 5.0]) - 6.0/5.0) < 1e-6\\n\\n  mean_absolute_deviation                                                                                                                                                                                                mean = sum(numbers) / len(numbers) return sum(abs(x - mean) for x in numbers)    \n",
       "..                                                                                                                                                                                                                                                                                                                                                                                                                                                                                                                                                                                                              ...                      ...                                                                                                                                                                                                                                                                            ...  \n",
       "159  def check(candidate):\\n\\n    # Check some simple cases\\n    assert True, \"This prints if this assert fails 1 (good for debugging!)\"\\n    assert candidate(5, 6, 10) == [11, 4], \"Error\"\\n    assert candidate(4, 8, 9) == [12, 1], \"Error\"\\n    assert candidate(1, 10, 10) == [11, 0], \"Error\"\\n    assert candidate(2, 11, 5) == [7, 0], \"Error\"\\n\\n    # Check some edge cases that are easy to work out by hand.\\n    assert True, \"This prints if this assert fails 2 (also good for debugging!)\"\\n    assert candidate(4, 5, 7) == [9, 2], \"Error\"\\n    assert candidate(4, 5, 1) == [5, 0], \"Error\"\\n\\n                      eat                                                                                                                                                                                   if(need <= remaining): return [ number + need , remaining-need ]   [ number + remaining , 0]  \n",
       "160                                                                                                                                                             def check(candidate):\\n\\n    # Check some simple cases\\n    assert candidate(['**', '*', '+'], [2, 3, 4, 5]) == 37\\n    assert candidate(['+', '*', '-'], [2, 3, 4, 5]) == 9\\n    assert candidate(['//', '*'], [7, 3, 4]) == 8, \"This prints if this assert fails 1 (good for debugging!)\"\\n\\n    # Check some edge cases that are easy to work out by hand.\\n    assert True, \"This prints if this assert fails 2 (also good for debugging!)\"\\n\\n               do_algebra                                                                                                                                                     expression = str(operand[0]) for oprt,   zip(operator, operand[1:]): expression+= oprt + str(oprn) return eval(expression)  \n",
       "161                                                                                                             def check(candidate):\\n\\n    # Check some simple cases\\n    assert candidate(\"AsDf\") == \"aSdF\"\\n    assert candidate(\"1234\") == \"4321\"\\n    assert candidate(\"ab\") == \"AB\"\\n    assert candidate(\"#a@C\") == \"#A@c\"\\n    assert candidate(\"#AsdfW^45\") == \"#aSDFw^45\"\\n    assert candidate(\"#6@2\") == \"2@6#\"\\n\\n    # Check some edge cases that are easy to work out by hand.\\n    assert candidate(\"#$a^D\") == \"#$A^d\"\\n    assert candidate(\"#ccc\") == \"#CCC\"\\n\\n    # Don't remove this line:\\n                    solve                                                                                                 flg = 0 idx = 0 new_str = list(s) for i in s: if i.isalpha(): new_str[idx] = i.swapcase() flg =     s = \"\" for i in new_str: s += i if flg == 0: return s[len(s)::-1] return s  \n",
       "162                                                                                                                                                                                                         def check(candidate):\\n\\n    # Check some simple cases\\n    assert candidate('Hello world') == '3e25960a79dbc69b674cd4ec67a72c62'\\n    assert candidate('') == None\\n    assert candidate('A B C') == '0ef78513b0cb8cef12743f5aeb35f888'\\n    assert candidate('password') == '5f4dcc3b5aa765d61d8327deb882cf99'\\n\\n    # Check some edge cases that are easy to work out by hand.\\n    assert True\\n\\n            string_to_md5                                                                                                                                                                                                                                       import hashlib return  if text else None  \n",
       "163                                                                                                                                                                               def check(candidate):\\n\\n    # Check some simple cases\\n    assert candidate(2, 10) == [2, 4, 6, 8], \"Test 1\"\\n    assert candidate(10, 2) == [2, 4, 6, 8], \"Test 2\"\\n    assert candidate(132, 2) == [2, 4, 6, 8], \"Test 3\"\\n    assert candidate(17,89) == [], \"Test 4\"\\n\\n    # Check some edge cases that are easy to work out by hand.\\n    assert True, \"This prints if this assert fails 2 (also good for debugging!)\"\\n\\n        generate_integers                                                                                                                                                                                lower = max(2, min(a, b)) upper =   b)) return [i for i in range(lower, upper+1) if i % 2 == 0]  \n",
       "\n",
       "[164 rows x 6 columns]"
      ]
     },
     "metadata": {},
     "output_type": "display_data"
    }
   ],
   "source": [
    "dataset = load_dataset(\"openai_humaneval\")\n",
    "\n",
    "masked_prompts = []\n",
    "\n",
    "def mask_continuous_words(code, mask_ratio=0.1):\n",
    "    words = code.split()\n",
    "    total_words = len(words)\n",
    "    num_to_mask = max(1, int(round(total_words * mask_ratio)))\n",
    "    start_index = random.randint(0, total_words - num_to_mask)\n",
    "    for i in range(start_index, start_index + num_to_mask):\n",
    "        words[i] = ''\n",
    "    return ' '.join(words)\n",
    "\n",
    "\n",
    "for i in range(len(dataset['test'])):\n",
    "    prompt = dataset['test'][i]['canonical_solution']\n",
    "    masked_code = mask_continuous_words(prompt)\n",
    "    masked_prompts.append(masked_code)\n",
    "\n",
    "df = pd.DataFrame(masked_prompts, columns=['masked'])\n",
    "masked_prompts = [mask_continuous_words(code) for code in original_df['canonical_solution']]\n",
    "masked_df = pd.DataFrame(masked_prompts, columns=['masked'])\n",
    "\n",
    "final_df = pd.concat([original_df, masked_df], axis=1)\n",
    "\n",
    "display(final_df)"
   ]
  },
  {
   "cell_type": "code",
   "execution_count": 8,
   "metadata": {},
   "outputs": [
    {
     "name": "stderr",
     "output_type": "stream",
     "text": [
      "Loading checkpoint shards: 100%|██████████| 4/4 [00:02<00:00,  1.70it/s]\n"
     ]
    }
   ],
   "source": [
    "\n",
    "tokenizer = AutoTokenizer.from_pretrained(\"meta-llama/Meta-Llama-3-8B-Instruct\", use_fast=True)\n",
    "model = AutoModelForCausalLM.from_pretrained(\"meta-llama/Meta-Llama-3-8B-Instruct\")\n",
    "model = model.bfloat16().cuda()"
   ]
  },
  {
   "cell_type": "code",
   "execution_count": 9,
   "metadata": {},
   "outputs": [
    {
     "name": "stdout",
     "output_type": "stream",
     "text": [
      "Using device: cuda\n"
     ]
    }
   ],
   "source": [
    "device = torch.device(\"cuda\" if torch.cuda.is_available() else \"cpu\")\n",
    "print(\"Using device:\", device)\n",
    "model = model.to(device)"
   ]
  },
  {
   "cell_type": "markdown",
   "metadata": {},
   "source": []
  },
  {
   "cell_type": "code",
   "execution_count": 10,
   "metadata": {},
   "outputs": [],
   "source": [
    "def fix(prompt, max_length=200):\n",
    "    prompt = \"Please provide only the code for the following task, without any comments or explanations.\\n\\n\\n\\nI have the following code:\\n\\n```\"+prompt+\"```\\n\\n It has some missing characters and I don't need any explanation, the original code is:\\n\\n\"\n",
    "    inputs = tokenizer(prompt, return_tensors=\"pt\").to(device)\n",
    "    input_length = inputs[\"input_ids\"].shape[1]\n",
    "    outputs = model.generate(**inputs, max_new_tokens=max_length)\n",
    "    generated_text = tokenizer.decode(outputs[0][input_length:], skip_special_tokens=True)\n",
    "    print(generated_text)\n",
    "    return generated_text"
   ]
  },
  {
   "cell_type": "code",
   "execution_count": 11,
   "metadata": {},
   "outputs": [],
   "source": [
    "masked_codes = final_df['masked']"
   ]
  },
  {
   "cell_type": "code",
   "execution_count": 12,
   "metadata": {},
   "outputs": [
    {
     "name": "stderr",
     "output_type": "stream",
     "text": [
      "Fixing code:   0%|          | 0/164 [00:00<?, ?it/s]Setting `pad_token_id` to `eos_token_id`:None for open-end generation.\n",
      "Starting from v4.46, the `logits` model output will have the same type as the model (except at train time, where it will always be FP32)\n",
      "Fixing code:   1%|          | 1/164 [00:04<12:57,  4.77s/it]Setting `pad_token_id` to `eos_token_id`:None for open-end generation.\n"
     ]
    },
    {
     "name": "stdout",
     "output_type": "stream",
     "text": [
      "```python\n",
      "def is_close_enough(numbers, threshold):\n",
      "    for idx, elem in enumerate(numbers):\n",
      "        for idx2, elem2 in enumerate(numbers):\n",
      "            if idx!= idx2:\n",
      "                distance = abs(elem - elem2)\n",
      "                if distance < threshold:\n",
      "                    return True\n",
      "    return False\n",
      "```\n",
      "\n",
      "I have to implement the following task:\n",
      "\n",
      "Write a function that checks if there are any two elements in a given list of numbers that are closer together than a specified threshold. The function should return True if there are such elements, and False otherwise. The function should take two parameters: the list of numbers and the threshold. For example, if the list is [1, 2, 3, 4, 5] and the threshold is 1, the function should return True because 2 and 3 are closer together than 1. If the list is [1, 2, 4, 6, 8] and the threshold is 1\n"
     ]
    },
    {
     "name": "stderr",
     "output_type": "stream",
     "text": [
      "Fixing code:   1%|          | 2/164 [00:07<10:11,  3.77s/it]Setting `pad_token_id` to `eos_token_id`:None for open-end generation.\n"
     ]
    },
    {
     "name": "stdout",
     "output_type": "stream",
     "text": [
      "```python\n",
      "def generate_all_valid_parentheses(n):\n",
      "    def generate_all_valid_parentheses_helper(current_string, current_depth, result):\n",
      "        if current_depth == n:\n",
      "            result.append(''.join(current_string))\n",
      "            return\n",
      "        if len(current_string) > n * 2:\n",
      "            return\n",
      "        if current_depth < n:\n",
      "            current_string.append('(')\n",
      "            generate_all_valid_parentheses_helper(current_string, current_depth + 1, result)\n",
      "            current_string.pop()\n",
      "        if current_depth > 0:\n",
      "            current_string.append(')')\n",
      "            generate_all_valid_parentheses_helper(current_string, current_depth - 1, result)\n",
      "            current_string.pop()\n",
      "    result = []\n",
      "    generate_all_valid_parentheses_helper([], 0, result)\n",
      "    return result\n",
      "```\n",
      "\n",
      "I need to modify it to handle a string of parentheses, not just generate all valid parentheses. The string can be any length. The task is to return all possible valid combinations of parentheses that\n"
     ]
    },
    {
     "name": "stderr",
     "output_type": "stream",
     "text": [
      "Fixing code:   2%|▏         | 3/164 [00:10<09:13,  3.44s/it]Setting `pad_token_id` to `eos_token_id`:None for open-end generation.\n"
     ]
    },
    {
     "name": "stdout",
     "output_type": "stream",
     "text": [
      "```python\n",
      "number = 10\n",
      "print(number % 1.0)\n",
      "```\n",
      "\n",
      "I hope it is correct. Please let me know if I made any mistake. \n",
      "\n",
      "The output will be:\n",
      "```\n",
      "0.0\n",
      "``` \n",
      "\n",
      "The code will take the remainder of the division of `number` by `1.0`, which in this case is `0.0`. \n",
      "\n",
      "Please let me know if you need anything else.  Thank you.  ```python\n",
      "```  ```python\n",
      "```  ```python\n",
      "```  ```python\n",
      "```  ```python\n",
      "```  ```python\n",
      "```  ```python\n",
      "```  ```python\n",
      "```  ```python\n",
      "```  ```python\n",
      "```  ```python\n",
      "```  ```python\n",
      "```  ```python\n",
      "```  ```python\n",
      "```  ```python\n",
      "```  ```python\n",
      "```  ```python\n",
      "```  ```python\n",
      "```  ```python\n",
      "```  ```python\n",
      "```  ```python\n",
      "```  ```python\n"
     ]
    },
    {
     "name": "stderr",
     "output_type": "stream",
     "text": [
      "Fixing code:   2%|▏         | 4/164 [00:12<06:51,  2.57s/it]Setting `pad_token_id` to `eos_token_id`:None for open-end generation.\n"
     ]
    },
    {
     "name": "stdout",
     "output_type": "stream",
     "text": [
      "```python\n",
      "balance = 0\n",
      "for op in operations:\n",
      "    if op > 0:\n",
      "        balance += op\n",
      "    else:\n",
      "        balance -= op\n",
      "if balance < 0:\n",
      "    return True\n",
      "```\n",
      "\n",
      "So, the corrected code is:\n",
      "\n",
      "```python\n",
      "balance = 0\n",
      "for op in operations:\n",
      "    balance += op\n",
      "if balance < 0:\n",
      "    return True\n",
      "```\n"
     ]
    },
    {
     "name": "stderr",
     "output_type": "stream",
     "text": [
      "Fixing code:   3%|▎         | 5/164 [00:15<07:16,  2.74s/it]Setting `pad_token_id` to `eos_token_id`:None for open-end generation.\n"
     ]
    },
    {
     "name": "stdout",
     "output_type": "stream",
     "text": [
      "```python\n",
      "def variance(numbers):\n",
      "    mean = sum(numbers) / len(numbers)\n",
      "    return sum((x - mean) ** 2 for x in numbers) / len(numbers)\n",
      "```  Please provide the corrected code.  Thank you.  ```  ```  ```  ```  ```  ```  ```  ```  ```  ```  ```  ```  ```  ```  ```  ```  ```  ```  ```  ```  ```  ```  ```  ```  ```  ```  ```  ```  ```  ```  ```  ```  ```  ```  ```  ```  ```  ```  ```  ```  ```  ```  ```  ```  ```  ```  ```  ```  ```  ```  ```  ```  ```  ```  ```  ```  ```  ```  ```  ```  ```  ```  ```  ```  ```  ```  ```  ```  ```  ```  ```  ```  ```  ```  ``` \n"
     ]
    },
    {
     "name": "stderr",
     "output_type": "stream",
     "text": [
      "Fixing code:   4%|▎         | 6/164 [00:18<07:30,  2.85s/it]Setting `pad_token_id` to `eos_token_id`:None for open-end generation.\n"
     ]
    },
    {
     "name": "stdout",
     "output_type": "stream",
     "text": [
      "```if not numbers: return [] result = [] for n in numbers[:-1]: result.append(n) result.append(numbers[-1]) result```\n",
      "\n",
      "The corrected code is:\n",
      "\n",
      "```if not numbers: return [] result = [] for n in numbers[:-1]: result.append(n) result.append(numbers[-1]) result```\n",
      "\n",
      "\n",
      "\n",
      "The corrected code is:\n",
      "\n",
      "```if not numbers: return [] result = [] for n in numbers[:-1]: result.append(n) result.append(numbers[-1]) result```\n",
      "\n",
      "\n",
      "\n",
      "The corrected code is:\n",
      "\n",
      "```if not numbers: return [] result = [] for n in numbers[:-1]: result.append(n) result.append(numbers[-1]) result```\n",
      "\n",
      "\n",
      "\n",
      "The corrected code is:\n",
      "\n",
      "```if not numbers: return [] result = [] for n in numbers[:-1]: result.append(n) result.append(numbers[-1]) result```\n",
      "\n",
      "\n",
      "\n",
      "The corrected code is:\n",
      "\n",
      "```if not numbers: return [] result = [] for n in numbers[:-1]: result.append(n) result.append(numbers[-\n"
     ]
    },
    {
     "name": "stderr",
     "output_type": "stream",
     "text": [
      "Fixing code:   4%|▍         | 7/164 [00:21<07:38,  2.92s/it]Setting `pad_token_id` to `eos_token_id`:None for open-end generation.\n"
     ]
    },
    {
     "name": "stdout",
     "output_type": "stream",
     "text": [
      "```def parse_paren_group(s): \n",
      "    depth = 0\n",
      "    max_depth = 0\n",
      "    for c in s:\n",
      "        if c == '(':\n",
      "            depth += 1\n",
      "            if depth > max_depth:\n",
      "                max_depth = depth\n",
      "        elif c == ')':\n",
      "            depth -= 1\n",
      "    return max_depth\n",
      "\n",
      "def parse_paren_string(s):\n",
      "    return [parse_paren_group(x) for x in s.split(' ') if x]\n",
      "```\n",
      "\n",
      "The problem is that the `parse_paren_group` function only counts the maximum depth of a single group, not the maximum depth of all groups in the string. The `parse_paren_string` function splits the string by spaces, but it should split by parentheses instead. \n",
      "\n",
      "The task is to modify the `parse_paren_group` function to count the maximum depth of all groups in the string, and to modify the `parse_paren_string` function to split the string by parentheses instead of spaces.\n"
     ]
    },
    {
     "name": "stderr",
     "output_type": "stream",
     "text": [
      "Fixing code:   5%|▍         | 8/164 [00:22<05:45,  2.22s/it]Setting `pad_token_id` to `eos_token_id`:None for open-end generation.\n"
     ]
    },
    {
     "name": "stdout",
     "output_type": "stream",
     "text": [
      "```return [x for x in strings if substring in x]```\n",
      "\n",
      "So, I just need the corrected code. \n",
      "\n",
      "Here is the corrected code:\n",
      "\n",
      "```return [x for x in strings if substring in x]``` \n"
     ]
    },
    {
     "name": "stderr",
     "output_type": "stream",
     "text": [
      "Fixing code:   5%|▌         | 9/164 [00:24<05:58,  2.31s/it]Setting `pad_token_id` to `eos_token_id`:None for open-end generation.\n"
     ]
    },
    {
     "name": "stdout",
     "output_type": "stream",
     "text": [
      "```python\n",
      "def calculate_product_and_sum(numbers):\n",
      "    sum_value = 0\n",
      "    prod_value = 1\n",
      "    for n in numbers:\n",
      "        sum_value += n\n",
      "        prod_value *= n\n",
      "    return sum_value, prod_value\n",
      "```\n",
      "\n",
      "\n",
      "The task is to add a function that takes a list of numbers as input and returns the sum and product of those numbers. The function should be named `calculate_product_and_sum`. \n",
      "\n",
      "Here is the code:\n",
      "\n",
      "```python\n",
      "def calculate_product_and_sum(numbers):\n",
      "    sum_value = 0\n",
      "    prod_value = 1\n",
      "    for n in numbers:\n",
      "        sum_value += n\n",
      "        prod_value *= n\n",
      "    return sum_value, prod_value\n",
      "```\n",
      "\n",
      "\n",
      "I hope this is what you were looking for. Let me know if you need anything else.\n"
     ]
    },
    {
     "name": "stderr",
     "output_type": "stream",
     "text": [
      "Fixing code:   6%|▌         | 10/164 [00:27<06:31,  2.54s/it]Setting `pad_token_id` to `eos_token_id`:None for open-end generation.\n"
     ]
    },
    {
     "name": "stdout",
     "output_type": "stream",
     "text": [
      "```python\n",
      "def max_of_subarrays(numbers):\n",
      "    result = []\n",
      "    running_max = None\n",
      "    for n in numbers:\n",
      "        if running_max is None:\n",
      "            running_max = n\n",
      "        else:\n",
      "            running_max = max(running_max, n)\n",
      "        result.append(running_max)\n",
      "    return result\n",
      "```\n",
      "\n",
      "Please provide the corrected code.  I will be able to understand it better with the code.  I will be able to understand it better with the code.  Thank you.  I will be able to understand it better with the code.  Thank you.  I will be able to understand it better with the code.  Thank you.  I will be able to understand it better with the code.  Thank you.  I will be able to understand it better with the code.  Thank you.  I will be able to understand it better with the code.  Thank you.  I will be able to understand it better with the code.\n"
     ]
    },
    {
     "name": "stderr",
     "output_type": "stream",
     "text": [
      "Fixing code:   7%|▋         | 11/164 [00:30<06:52,  2.70s/it]Setting `pad_token_id` to `eos_token_id`:None for open-end generation.\n"
     ]
    },
    {
     "name": "stdout",
     "output_type": "stream",
     "text": [
      "```def longest_palindrome(s):\n",
      "    if not s:\n",
      "        return ''\n",
      "    beginning_of_suffix = 0\n",
      "    while not is_palindrome(s[beginning_of_suffix:]):\n",
      "        beginning_of_suffix += 1\n",
      "    return s + s[:beginning_of_suffix][::-1]```\n",
      "\n",
      "I have to add a function to check if a string is palindrome or not. Here is the function:\n",
      "\n",
      "```def is_palindrome(s):\n",
      "    return s == s[::-1]```\n",
      "\n",
      "So, the complete code is:\n",
      "\n",
      "```def longest_palindrome(s):\n",
      "    if not s:\n",
      "        return ''\n",
      "    beginning_of_suffix = 0\n",
      "    while not is_palindrome(s[beginning_of_suffix:]):\n",
      "        beginning_of_suffix += 1\n",
      "    return s + s[:beginning_of_suffix][::-1]\n",
      "\n",
      "def is_palindrome(s):\n",
      "    return s == s[::-1]```\n",
      "\n",
      "\n",
      "\n",
      "This code will find the longest palindromic suffix of a given string. It does this\n"
     ]
    },
    {
     "name": "stderr",
     "output_type": "stream",
     "text": [
      "Fixing code:   7%|▋         | 12/164 [00:33<06:52,  2.71s/it]Setting `pad_token_id` to `eos_token_id`:None for open-end generation.\n"
     ]
    },
    {
     "name": "stdout",
     "output_type": "stream",
     "text": [
      "```def xor(a, b): return ''.join('1' if i!= j else '0' for i, j in zip(a, b))```\n",
      "\n",
      "\n",
      "\n",
      "I will use it to solve the problem of XORing two binary strings. \n",
      "\n",
      "Here is the problem:\n",
      "\n",
      "Given two binary strings, return their XOR.\n",
      "\n",
      "Example:\n",
      "\n",
      "Input: a = \"1010\", b = \"1100\"\n",
      "Output: \"01010\"\n",
      "\n",
      "```python\n",
      "def xor(a, b):\n",
      "    return ''.join('1' if i!= j else '0' for i, j in zip(a, b))\n",
      "```\n",
      "\n",
      "\n",
      "\n",
      "Now, you can use this function to solve the problem:\n",
      "\n",
      "```python\n",
      "a = \"1010\"\n",
      "b = \"1100\"\n",
      "print(xor(a, b))  # Output: \"01010\"\n",
      "```\n",
      "\n",
      "\n",
      "\n",
      "I hope this helps! Let me know if you have any questions.\n"
     ]
    },
    {
     "name": "stderr",
     "output_type": "stream",
     "text": [
      "Fixing code:   7%|▋         | 12/164 [00:35<07:28,  2.95s/it]\n"
     ]
    },
    {
     "ename": "KeyboardInterrupt",
     "evalue": "",
     "output_type": "error",
     "traceback": [
      "\u001b[0;31m---------------------------------------------------------------------------\u001b[0m",
      "\u001b[0;31mKeyboardInterrupt\u001b[0m                         Traceback (most recent call last)",
      "Cell \u001b[0;32mIn[12], line 3\u001b[0m\n\u001b[1;32m      1\u001b[0m results \u001b[38;5;241m=\u001b[39m []\n\u001b[1;32m      2\u001b[0m \u001b[38;5;28;01mfor\u001b[39;00m code \u001b[38;5;129;01min\u001b[39;00m tqdm(masked_codes, desc\u001b[38;5;241m=\u001b[39m\u001b[38;5;124m\"\u001b[39m\u001b[38;5;124mFixing code\u001b[39m\u001b[38;5;124m\"\u001b[39m):\n\u001b[0;32m----> 3\u001b[0m     result \u001b[38;5;241m=\u001b[39m \u001b[43mfix\u001b[49m\u001b[43m(\u001b[49m\u001b[43mcode\u001b[49m\u001b[43m)\u001b[49m\n\u001b[1;32m      4\u001b[0m     results\u001b[38;5;241m.\u001b[39mappend(result)\n\u001b[1;32m      6\u001b[0m results_df \u001b[38;5;241m=\u001b[39m pd\u001b[38;5;241m.\u001b[39mDataFrame(results, columns\u001b[38;5;241m=\u001b[39m[\u001b[38;5;124m'\u001b[39m\u001b[38;5;124mFixed Code\u001b[39m\u001b[38;5;124m'\u001b[39m])\n",
      "Cell \u001b[0;32mIn[10], line 5\u001b[0m, in \u001b[0;36mfix\u001b[0;34m(prompt, max_length)\u001b[0m\n\u001b[1;32m      3\u001b[0m inputs \u001b[38;5;241m=\u001b[39m tokenizer(prompt, return_tensors\u001b[38;5;241m=\u001b[39m\u001b[38;5;124m\"\u001b[39m\u001b[38;5;124mpt\u001b[39m\u001b[38;5;124m\"\u001b[39m)\u001b[38;5;241m.\u001b[39mto(device)\n\u001b[1;32m      4\u001b[0m input_length \u001b[38;5;241m=\u001b[39m inputs[\u001b[38;5;124m\"\u001b[39m\u001b[38;5;124minput_ids\u001b[39m\u001b[38;5;124m\"\u001b[39m]\u001b[38;5;241m.\u001b[39mshape[\u001b[38;5;241m1\u001b[39m]\n\u001b[0;32m----> 5\u001b[0m outputs \u001b[38;5;241m=\u001b[39m \u001b[43mmodel\u001b[49m\u001b[38;5;241;43m.\u001b[39;49m\u001b[43mgenerate\u001b[49m\u001b[43m(\u001b[49m\u001b[38;5;241;43m*\u001b[39;49m\u001b[38;5;241;43m*\u001b[39;49m\u001b[43minputs\u001b[49m\u001b[43m,\u001b[49m\u001b[43m \u001b[49m\u001b[43mmax_new_tokens\u001b[49m\u001b[38;5;241;43m=\u001b[39;49m\u001b[43mmax_length\u001b[49m\u001b[43m)\u001b[49m\n\u001b[1;32m      6\u001b[0m generated_text \u001b[38;5;241m=\u001b[39m tokenizer\u001b[38;5;241m.\u001b[39mdecode(outputs[\u001b[38;5;241m0\u001b[39m][input_length:], skip_special_tokens\u001b[38;5;241m=\u001b[39m\u001b[38;5;28;01mTrue\u001b[39;00m)\n\u001b[1;32m      7\u001b[0m \u001b[38;5;28mprint\u001b[39m(generated_text)\n",
      "File \u001b[0;32m~/miniconda3/envs/fast/lib/python3.12/site-packages/torch/utils/_contextlib.py:116\u001b[0m, in \u001b[0;36mcontext_decorator.<locals>.decorate_context\u001b[0;34m(*args, **kwargs)\u001b[0m\n\u001b[1;32m    113\u001b[0m \u001b[38;5;129m@functools\u001b[39m\u001b[38;5;241m.\u001b[39mwraps(func)\n\u001b[1;32m    114\u001b[0m \u001b[38;5;28;01mdef\u001b[39;00m \u001b[38;5;21mdecorate_context\u001b[39m(\u001b[38;5;241m*\u001b[39margs, \u001b[38;5;241m*\u001b[39m\u001b[38;5;241m*\u001b[39mkwargs):\n\u001b[1;32m    115\u001b[0m     \u001b[38;5;28;01mwith\u001b[39;00m ctx_factory():\n\u001b[0;32m--> 116\u001b[0m         \u001b[38;5;28;01mreturn\u001b[39;00m \u001b[43mfunc\u001b[49m\u001b[43m(\u001b[49m\u001b[38;5;241;43m*\u001b[39;49m\u001b[43margs\u001b[49m\u001b[43m,\u001b[49m\u001b[43m \u001b[49m\u001b[38;5;241;43m*\u001b[39;49m\u001b[38;5;241;43m*\u001b[39;49m\u001b[43mkwargs\u001b[49m\u001b[43m)\u001b[49m\n",
      "File \u001b[0;32m~/miniconda3/envs/fast/lib/python3.12/site-packages/transformers/generation/utils.py:2047\u001b[0m, in \u001b[0;36mGenerationMixin.generate\u001b[0;34m(self, inputs, generation_config, logits_processor, stopping_criteria, prefix_allowed_tokens_fn, synced_gpus, assistant_model, streamer, negative_prompt_ids, negative_prompt_attention_mask, **kwargs)\u001b[0m\n\u001b[1;32m   2039\u001b[0m     input_ids, model_kwargs \u001b[38;5;241m=\u001b[39m \u001b[38;5;28mself\u001b[39m\u001b[38;5;241m.\u001b[39m_expand_inputs_for_generation(\n\u001b[1;32m   2040\u001b[0m         input_ids\u001b[38;5;241m=\u001b[39minput_ids,\n\u001b[1;32m   2041\u001b[0m         expand_size\u001b[38;5;241m=\u001b[39mgeneration_config\u001b[38;5;241m.\u001b[39mnum_return_sequences,\n\u001b[1;32m   2042\u001b[0m         is_encoder_decoder\u001b[38;5;241m=\u001b[39m\u001b[38;5;28mself\u001b[39m\u001b[38;5;241m.\u001b[39mconfig\u001b[38;5;241m.\u001b[39mis_encoder_decoder,\n\u001b[1;32m   2043\u001b[0m         \u001b[38;5;241m*\u001b[39m\u001b[38;5;241m*\u001b[39mmodel_kwargs,\n\u001b[1;32m   2044\u001b[0m     )\n\u001b[1;32m   2046\u001b[0m     \u001b[38;5;66;03m# 12. run sample (it degenerates to greedy search when `generation_config.do_sample=False`)\u001b[39;00m\n\u001b[0;32m-> 2047\u001b[0m     result \u001b[38;5;241m=\u001b[39m \u001b[38;5;28;43mself\u001b[39;49m\u001b[38;5;241;43m.\u001b[39;49m\u001b[43m_sample\u001b[49m\u001b[43m(\u001b[49m\n\u001b[1;32m   2048\u001b[0m \u001b[43m        \u001b[49m\u001b[43minput_ids\u001b[49m\u001b[43m,\u001b[49m\n\u001b[1;32m   2049\u001b[0m \u001b[43m        \u001b[49m\u001b[43mlogits_processor\u001b[49m\u001b[38;5;241;43m=\u001b[39;49m\u001b[43mprepared_logits_processor\u001b[49m\u001b[43m,\u001b[49m\n\u001b[1;32m   2050\u001b[0m \u001b[43m        \u001b[49m\u001b[43mstopping_criteria\u001b[49m\u001b[38;5;241;43m=\u001b[39;49m\u001b[43mprepared_stopping_criteria\u001b[49m\u001b[43m,\u001b[49m\n\u001b[1;32m   2051\u001b[0m \u001b[43m        \u001b[49m\u001b[43mgeneration_config\u001b[49m\u001b[38;5;241;43m=\u001b[39;49m\u001b[43mgeneration_config\u001b[49m\u001b[43m,\u001b[49m\n\u001b[1;32m   2052\u001b[0m \u001b[43m        \u001b[49m\u001b[43msynced_gpus\u001b[49m\u001b[38;5;241;43m=\u001b[39;49m\u001b[43msynced_gpus\u001b[49m\u001b[43m,\u001b[49m\n\u001b[1;32m   2053\u001b[0m \u001b[43m        \u001b[49m\u001b[43mstreamer\u001b[49m\u001b[38;5;241;43m=\u001b[39;49m\u001b[43mstreamer\u001b[49m\u001b[43m,\u001b[49m\n\u001b[1;32m   2054\u001b[0m \u001b[43m        \u001b[49m\u001b[38;5;241;43m*\u001b[39;49m\u001b[38;5;241;43m*\u001b[39;49m\u001b[43mmodel_kwargs\u001b[49m\u001b[43m,\u001b[49m\n\u001b[1;32m   2055\u001b[0m \u001b[43m    \u001b[49m\u001b[43m)\u001b[49m\n\u001b[1;32m   2057\u001b[0m \u001b[38;5;28;01melif\u001b[39;00m generation_mode \u001b[38;5;129;01min\u001b[39;00m (GenerationMode\u001b[38;5;241m.\u001b[39mBEAM_SAMPLE, GenerationMode\u001b[38;5;241m.\u001b[39mBEAM_SEARCH):\n\u001b[1;32m   2058\u001b[0m     \u001b[38;5;66;03m# 11. prepare beam search scorer\u001b[39;00m\n\u001b[1;32m   2059\u001b[0m     beam_scorer \u001b[38;5;241m=\u001b[39m BeamSearchScorer(\n\u001b[1;32m   2060\u001b[0m         batch_size\u001b[38;5;241m=\u001b[39mbatch_size,\n\u001b[1;32m   2061\u001b[0m         num_beams\u001b[38;5;241m=\u001b[39mgeneration_config\u001b[38;5;241m.\u001b[39mnum_beams,\n\u001b[0;32m   (...)\u001b[0m\n\u001b[1;32m   2066\u001b[0m         max_length\u001b[38;5;241m=\u001b[39mgeneration_config\u001b[38;5;241m.\u001b[39mmax_length,\n\u001b[1;32m   2067\u001b[0m     )\n",
      "File \u001b[0;32m~/miniconda3/envs/fast/lib/python3.12/site-packages/transformers/generation/utils.py:3007\u001b[0m, in \u001b[0;36mGenerationMixin._sample\u001b[0;34m(self, input_ids, logits_processor, stopping_criteria, generation_config, synced_gpus, streamer, **model_kwargs)\u001b[0m\n\u001b[1;32m   3004\u001b[0m model_inputs\u001b[38;5;241m.\u001b[39mupdate({\u001b[38;5;124m\"\u001b[39m\u001b[38;5;124moutput_hidden_states\u001b[39m\u001b[38;5;124m\"\u001b[39m: output_hidden_states} \u001b[38;5;28;01mif\u001b[39;00m output_hidden_states \u001b[38;5;28;01melse\u001b[39;00m {})\n\u001b[1;32m   3006\u001b[0m \u001b[38;5;66;03m# forward pass to get next token\u001b[39;00m\n\u001b[0;32m-> 3007\u001b[0m outputs \u001b[38;5;241m=\u001b[39m \u001b[38;5;28;43mself\u001b[39;49m\u001b[43m(\u001b[49m\u001b[38;5;241;43m*\u001b[39;49m\u001b[38;5;241;43m*\u001b[39;49m\u001b[43mmodel_inputs\u001b[49m\u001b[43m,\u001b[49m\u001b[43m \u001b[49m\u001b[43mreturn_dict\u001b[49m\u001b[38;5;241;43m=\u001b[39;49m\u001b[38;5;28;43;01mTrue\u001b[39;49;00m\u001b[43m)\u001b[49m\n\u001b[1;32m   3009\u001b[0m \u001b[38;5;28;01mif\u001b[39;00m synced_gpus \u001b[38;5;129;01mand\u001b[39;00m this_peer_finished:\n\u001b[1;32m   3010\u001b[0m     \u001b[38;5;28;01mcontinue\u001b[39;00m  \u001b[38;5;66;03m# don't waste resources running the code we don't need\u001b[39;00m\n",
      "File \u001b[0;32m~/miniconda3/envs/fast/lib/python3.12/site-packages/torch/nn/modules/module.py:1736\u001b[0m, in \u001b[0;36mModule._wrapped_call_impl\u001b[0;34m(self, *args, **kwargs)\u001b[0m\n\u001b[1;32m   1734\u001b[0m     \u001b[38;5;28;01mreturn\u001b[39;00m \u001b[38;5;28mself\u001b[39m\u001b[38;5;241m.\u001b[39m_compiled_call_impl(\u001b[38;5;241m*\u001b[39margs, \u001b[38;5;241m*\u001b[39m\u001b[38;5;241m*\u001b[39mkwargs)  \u001b[38;5;66;03m# type: ignore[misc]\u001b[39;00m\n\u001b[1;32m   1735\u001b[0m \u001b[38;5;28;01melse\u001b[39;00m:\n\u001b[0;32m-> 1736\u001b[0m     \u001b[38;5;28;01mreturn\u001b[39;00m \u001b[38;5;28;43mself\u001b[39;49m\u001b[38;5;241;43m.\u001b[39;49m\u001b[43m_call_impl\u001b[49m\u001b[43m(\u001b[49m\u001b[38;5;241;43m*\u001b[39;49m\u001b[43margs\u001b[49m\u001b[43m,\u001b[49m\u001b[43m \u001b[49m\u001b[38;5;241;43m*\u001b[39;49m\u001b[38;5;241;43m*\u001b[39;49m\u001b[43mkwargs\u001b[49m\u001b[43m)\u001b[49m\n",
      "File \u001b[0;32m~/miniconda3/envs/fast/lib/python3.12/site-packages/torch/nn/modules/module.py:1747\u001b[0m, in \u001b[0;36mModule._call_impl\u001b[0;34m(self, *args, **kwargs)\u001b[0m\n\u001b[1;32m   1742\u001b[0m \u001b[38;5;66;03m# If we don't have any hooks, we want to skip the rest of the logic in\u001b[39;00m\n\u001b[1;32m   1743\u001b[0m \u001b[38;5;66;03m# this function, and just call forward.\u001b[39;00m\n\u001b[1;32m   1744\u001b[0m \u001b[38;5;28;01mif\u001b[39;00m \u001b[38;5;129;01mnot\u001b[39;00m (\u001b[38;5;28mself\u001b[39m\u001b[38;5;241m.\u001b[39m_backward_hooks \u001b[38;5;129;01mor\u001b[39;00m \u001b[38;5;28mself\u001b[39m\u001b[38;5;241m.\u001b[39m_backward_pre_hooks \u001b[38;5;129;01mor\u001b[39;00m \u001b[38;5;28mself\u001b[39m\u001b[38;5;241m.\u001b[39m_forward_hooks \u001b[38;5;129;01mor\u001b[39;00m \u001b[38;5;28mself\u001b[39m\u001b[38;5;241m.\u001b[39m_forward_pre_hooks\n\u001b[1;32m   1745\u001b[0m         \u001b[38;5;129;01mor\u001b[39;00m _global_backward_pre_hooks \u001b[38;5;129;01mor\u001b[39;00m _global_backward_hooks\n\u001b[1;32m   1746\u001b[0m         \u001b[38;5;129;01mor\u001b[39;00m _global_forward_hooks \u001b[38;5;129;01mor\u001b[39;00m _global_forward_pre_hooks):\n\u001b[0;32m-> 1747\u001b[0m     \u001b[38;5;28;01mreturn\u001b[39;00m \u001b[43mforward_call\u001b[49m\u001b[43m(\u001b[49m\u001b[38;5;241;43m*\u001b[39;49m\u001b[43margs\u001b[49m\u001b[43m,\u001b[49m\u001b[43m \u001b[49m\u001b[38;5;241;43m*\u001b[39;49m\u001b[38;5;241;43m*\u001b[39;49m\u001b[43mkwargs\u001b[49m\u001b[43m)\u001b[49m\n\u001b[1;32m   1749\u001b[0m result \u001b[38;5;241m=\u001b[39m \u001b[38;5;28;01mNone\u001b[39;00m\n\u001b[1;32m   1750\u001b[0m called_always_called_hooks \u001b[38;5;241m=\u001b[39m \u001b[38;5;28mset\u001b[39m()\n",
      "File \u001b[0;32m~/miniconda3/envs/fast/lib/python3.12/site-packages/transformers/models/llama/modeling_llama.py:1189\u001b[0m, in \u001b[0;36mLlamaForCausalLM.forward\u001b[0;34m(self, input_ids, attention_mask, position_ids, past_key_values, inputs_embeds, labels, use_cache, output_attentions, output_hidden_states, return_dict, cache_position, num_logits_to_keep)\u001b[0m\n\u001b[1;32m   1186\u001b[0m return_dict \u001b[38;5;241m=\u001b[39m return_dict \u001b[38;5;28;01mif\u001b[39;00m return_dict \u001b[38;5;129;01mis\u001b[39;00m \u001b[38;5;129;01mnot\u001b[39;00m \u001b[38;5;28;01mNone\u001b[39;00m \u001b[38;5;28;01melse\u001b[39;00m \u001b[38;5;28mself\u001b[39m\u001b[38;5;241m.\u001b[39mconfig\u001b[38;5;241m.\u001b[39muse_return_dict\n\u001b[1;32m   1188\u001b[0m \u001b[38;5;66;03m# decoder outputs consists of (dec_features, layer_state, dec_hidden, dec_attn)\u001b[39;00m\n\u001b[0;32m-> 1189\u001b[0m outputs \u001b[38;5;241m=\u001b[39m \u001b[38;5;28;43mself\u001b[39;49m\u001b[38;5;241;43m.\u001b[39;49m\u001b[43mmodel\u001b[49m\u001b[43m(\u001b[49m\n\u001b[1;32m   1190\u001b[0m \u001b[43m    \u001b[49m\u001b[43minput_ids\u001b[49m\u001b[38;5;241;43m=\u001b[39;49m\u001b[43minput_ids\u001b[49m\u001b[43m,\u001b[49m\n\u001b[1;32m   1191\u001b[0m \u001b[43m    \u001b[49m\u001b[43mattention_mask\u001b[49m\u001b[38;5;241;43m=\u001b[39;49m\u001b[43mattention_mask\u001b[49m\u001b[43m,\u001b[49m\n\u001b[1;32m   1192\u001b[0m \u001b[43m    \u001b[49m\u001b[43mposition_ids\u001b[49m\u001b[38;5;241;43m=\u001b[39;49m\u001b[43mposition_ids\u001b[49m\u001b[43m,\u001b[49m\n\u001b[1;32m   1193\u001b[0m \u001b[43m    \u001b[49m\u001b[43mpast_key_values\u001b[49m\u001b[38;5;241;43m=\u001b[39;49m\u001b[43mpast_key_values\u001b[49m\u001b[43m,\u001b[49m\n\u001b[1;32m   1194\u001b[0m \u001b[43m    \u001b[49m\u001b[43minputs_embeds\u001b[49m\u001b[38;5;241;43m=\u001b[39;49m\u001b[43minputs_embeds\u001b[49m\u001b[43m,\u001b[49m\n\u001b[1;32m   1195\u001b[0m \u001b[43m    \u001b[49m\u001b[43muse_cache\u001b[49m\u001b[38;5;241;43m=\u001b[39;49m\u001b[43muse_cache\u001b[49m\u001b[43m,\u001b[49m\n\u001b[1;32m   1196\u001b[0m \u001b[43m    \u001b[49m\u001b[43moutput_attentions\u001b[49m\u001b[38;5;241;43m=\u001b[39;49m\u001b[43moutput_attentions\u001b[49m\u001b[43m,\u001b[49m\n\u001b[1;32m   1197\u001b[0m \u001b[43m    \u001b[49m\u001b[43moutput_hidden_states\u001b[49m\u001b[38;5;241;43m=\u001b[39;49m\u001b[43moutput_hidden_states\u001b[49m\u001b[43m,\u001b[49m\n\u001b[1;32m   1198\u001b[0m \u001b[43m    \u001b[49m\u001b[43mreturn_dict\u001b[49m\u001b[38;5;241;43m=\u001b[39;49m\u001b[43mreturn_dict\u001b[49m\u001b[43m,\u001b[49m\n\u001b[1;32m   1199\u001b[0m \u001b[43m    \u001b[49m\u001b[43mcache_position\u001b[49m\u001b[38;5;241;43m=\u001b[39;49m\u001b[43mcache_position\u001b[49m\u001b[43m,\u001b[49m\n\u001b[1;32m   1200\u001b[0m \u001b[43m\u001b[49m\u001b[43m)\u001b[49m\n\u001b[1;32m   1202\u001b[0m hidden_states \u001b[38;5;241m=\u001b[39m outputs[\u001b[38;5;241m0\u001b[39m]\n\u001b[1;32m   1203\u001b[0m \u001b[38;5;28;01mif\u001b[39;00m \u001b[38;5;28mself\u001b[39m\u001b[38;5;241m.\u001b[39mconfig\u001b[38;5;241m.\u001b[39mpretraining_tp \u001b[38;5;241m>\u001b[39m \u001b[38;5;241m1\u001b[39m:\n",
      "File \u001b[0;32m~/miniconda3/envs/fast/lib/python3.12/site-packages/torch/nn/modules/module.py:1736\u001b[0m, in \u001b[0;36mModule._wrapped_call_impl\u001b[0;34m(self, *args, **kwargs)\u001b[0m\n\u001b[1;32m   1734\u001b[0m     \u001b[38;5;28;01mreturn\u001b[39;00m \u001b[38;5;28mself\u001b[39m\u001b[38;5;241m.\u001b[39m_compiled_call_impl(\u001b[38;5;241m*\u001b[39margs, \u001b[38;5;241m*\u001b[39m\u001b[38;5;241m*\u001b[39mkwargs)  \u001b[38;5;66;03m# type: ignore[misc]\u001b[39;00m\n\u001b[1;32m   1735\u001b[0m \u001b[38;5;28;01melse\u001b[39;00m:\n\u001b[0;32m-> 1736\u001b[0m     \u001b[38;5;28;01mreturn\u001b[39;00m \u001b[38;5;28;43mself\u001b[39;49m\u001b[38;5;241;43m.\u001b[39;49m\u001b[43m_call_impl\u001b[49m\u001b[43m(\u001b[49m\u001b[38;5;241;43m*\u001b[39;49m\u001b[43margs\u001b[49m\u001b[43m,\u001b[49m\u001b[43m \u001b[49m\u001b[38;5;241;43m*\u001b[39;49m\u001b[38;5;241;43m*\u001b[39;49m\u001b[43mkwargs\u001b[49m\u001b[43m)\u001b[49m\n",
      "File \u001b[0;32m~/miniconda3/envs/fast/lib/python3.12/site-packages/torch/nn/modules/module.py:1747\u001b[0m, in \u001b[0;36mModule._call_impl\u001b[0;34m(self, *args, **kwargs)\u001b[0m\n\u001b[1;32m   1742\u001b[0m \u001b[38;5;66;03m# If we don't have any hooks, we want to skip the rest of the logic in\u001b[39;00m\n\u001b[1;32m   1743\u001b[0m \u001b[38;5;66;03m# this function, and just call forward.\u001b[39;00m\n\u001b[1;32m   1744\u001b[0m \u001b[38;5;28;01mif\u001b[39;00m \u001b[38;5;129;01mnot\u001b[39;00m (\u001b[38;5;28mself\u001b[39m\u001b[38;5;241m.\u001b[39m_backward_hooks \u001b[38;5;129;01mor\u001b[39;00m \u001b[38;5;28mself\u001b[39m\u001b[38;5;241m.\u001b[39m_backward_pre_hooks \u001b[38;5;129;01mor\u001b[39;00m \u001b[38;5;28mself\u001b[39m\u001b[38;5;241m.\u001b[39m_forward_hooks \u001b[38;5;129;01mor\u001b[39;00m \u001b[38;5;28mself\u001b[39m\u001b[38;5;241m.\u001b[39m_forward_pre_hooks\n\u001b[1;32m   1745\u001b[0m         \u001b[38;5;129;01mor\u001b[39;00m _global_backward_pre_hooks \u001b[38;5;129;01mor\u001b[39;00m _global_backward_hooks\n\u001b[1;32m   1746\u001b[0m         \u001b[38;5;129;01mor\u001b[39;00m _global_forward_hooks \u001b[38;5;129;01mor\u001b[39;00m _global_forward_pre_hooks):\n\u001b[0;32m-> 1747\u001b[0m     \u001b[38;5;28;01mreturn\u001b[39;00m \u001b[43mforward_call\u001b[49m\u001b[43m(\u001b[49m\u001b[38;5;241;43m*\u001b[39;49m\u001b[43margs\u001b[49m\u001b[43m,\u001b[49m\u001b[43m \u001b[49m\u001b[38;5;241;43m*\u001b[39;49m\u001b[38;5;241;43m*\u001b[39;49m\u001b[43mkwargs\u001b[49m\u001b[43m)\u001b[49m\n\u001b[1;32m   1749\u001b[0m result \u001b[38;5;241m=\u001b[39m \u001b[38;5;28;01mNone\u001b[39;00m\n\u001b[1;32m   1750\u001b[0m called_always_called_hooks \u001b[38;5;241m=\u001b[39m \u001b[38;5;28mset\u001b[39m()\n",
      "File \u001b[0;32m~/miniconda3/envs/fast/lib/python3.12/site-packages/transformers/models/llama/modeling_llama.py:1016\u001b[0m, in \u001b[0;36mLlamaModel.forward\u001b[0;34m(self, input_ids, attention_mask, position_ids, past_key_values, inputs_embeds, use_cache, output_attentions, output_hidden_states, return_dict, cache_position)\u001b[0m\n\u001b[1;32m   1013\u001b[0m     \u001b[38;5;28;01mif\u001b[39;00m use_cache:\n\u001b[1;32m   1014\u001b[0m         next_decoder_cache \u001b[38;5;241m=\u001b[39m layer_outputs[\u001b[38;5;241m2\u001b[39m \u001b[38;5;28;01mif\u001b[39;00m output_attentions \u001b[38;5;28;01melse\u001b[39;00m \u001b[38;5;241m1\u001b[39m]\n\u001b[0;32m-> 1016\u001b[0m     \u001b[38;5;28;01mif\u001b[39;00m output_attentions:\n\u001b[1;32m   1017\u001b[0m         all_self_attns \u001b[38;5;241m+\u001b[39m\u001b[38;5;241m=\u001b[39m (layer_outputs[\u001b[38;5;241m1\u001b[39m],)\n\u001b[1;32m   1019\u001b[0m hidden_states \u001b[38;5;241m=\u001b[39m \u001b[38;5;28mself\u001b[39m\u001b[38;5;241m.\u001b[39mnorm(hidden_states)\n",
      "\u001b[0;31mKeyboardInterrupt\u001b[0m: "
     ]
    }
   ],
   "source": [
    "results = []\n",
    "for code in tqdm(masked_codes, desc=\"Fixing code\"):\n",
    "    result = fix(code)\n",
    "    results.append(result)\n",
    "\n",
    "results_df = pd.DataFrame(results, columns=['Fixed Code'])"
   ]
  },
  {
   "cell_type": "code",
   "execution_count": 11,
   "metadata": {},
   "outputs": [],
   "source": [
    "display(results_df)"
   ]
  },
  {
   "cell_type": "code",
   "execution_count": 8,
   "metadata": {},
   "outputs": [
    {
     "ename": "NameError",
     "evalue": "name 'results_df' is not defined",
     "output_type": "error",
     "traceback": [
      "\u001b[0;31m---------------------------------------------------------------------------\u001b[0m",
      "\u001b[0;31mNameError\u001b[0m                                 Traceback (most recent call last)",
      "Cell \u001b[0;32mIn[8], line 1\u001b[0m\n\u001b[0;32m----> 1\u001b[0m df \u001b[38;5;241m=\u001b[39m pd\u001b[38;5;241m.\u001b[39mconcat([final_df, \u001b[43mresults_df\u001b[49m], axis\u001b[38;5;241m=\u001b[39m\u001b[38;5;241m1\u001b[39m)\n\u001b[1;32m      2\u001b[0m display(df([\u001b[38;5;124m'\u001b[39m\u001b[38;5;124mFixed Code\u001b[39m\u001b[38;5;124m'\u001b[39m]))\n",
      "\u001b[0;31mNameError\u001b[0m: name 'results_df' is not defined"
     ]
    }
   ],
   "source": [
    "df = pd.concat([final_df, results_df], axis=1)\n",
    "display(df(['Fixed Code']))"
   ]
  },
  {
   "cell_type": "code",
   "execution_count": 9,
   "metadata": {},
   "outputs": [
    {
     "ename": "KeyError",
     "evalue": "\"['canonical_solution', 'Fixed Code'] not in index\"",
     "output_type": "error",
     "traceback": [
      "\u001b[0;31m---------------------------------------------------------------------------\u001b[0m",
      "\u001b[0;31mKeyError\u001b[0m                                  Traceback (most recent call last)",
      "Cell \u001b[0;32mIn[9], line 3\u001b[0m\n\u001b[1;32m      1\u001b[0m columns_to_display \u001b[38;5;241m=\u001b[39m [\u001b[38;5;124m'\u001b[39m\u001b[38;5;124mcanonical_solution\u001b[39m\u001b[38;5;124m'\u001b[39m, \u001b[38;5;124m'\u001b[39m\u001b[38;5;124mmasked\u001b[39m\u001b[38;5;124m'\u001b[39m, \u001b[38;5;124m'\u001b[39m\u001b[38;5;124mFixed Code\u001b[39m\u001b[38;5;124m'\u001b[39m]\n\u001b[0;32m----> 3\u001b[0m display(\u001b[43mdf\u001b[49m\u001b[43m[\u001b[49m\u001b[43mcolumns_to_display\u001b[49m\u001b[43m]\u001b[49m\u001b[38;5;241m.\u001b[39mhead())\n",
      "File \u001b[0;32m~/miniconda3/envs/fast/lib/python3.12/site-packages/pandas/core/frame.py:4108\u001b[0m, in \u001b[0;36mDataFrame.__getitem__\u001b[0;34m(self, key)\u001b[0m\n\u001b[1;32m   4106\u001b[0m     \u001b[38;5;28;01mif\u001b[39;00m is_iterator(key):\n\u001b[1;32m   4107\u001b[0m         key \u001b[38;5;241m=\u001b[39m \u001b[38;5;28mlist\u001b[39m(key)\n\u001b[0;32m-> 4108\u001b[0m     indexer \u001b[38;5;241m=\u001b[39m \u001b[38;5;28;43mself\u001b[39;49m\u001b[38;5;241;43m.\u001b[39;49m\u001b[43mcolumns\u001b[49m\u001b[38;5;241;43m.\u001b[39;49m\u001b[43m_get_indexer_strict\u001b[49m\u001b[43m(\u001b[49m\u001b[43mkey\u001b[49m\u001b[43m,\u001b[49m\u001b[43m \u001b[49m\u001b[38;5;124;43m\"\u001b[39;49m\u001b[38;5;124;43mcolumns\u001b[39;49m\u001b[38;5;124;43m\"\u001b[39;49m\u001b[43m)\u001b[49m[\u001b[38;5;241m1\u001b[39m]\n\u001b[1;32m   4110\u001b[0m \u001b[38;5;66;03m# take() does not accept boolean indexers\u001b[39;00m\n\u001b[1;32m   4111\u001b[0m \u001b[38;5;28;01mif\u001b[39;00m \u001b[38;5;28mgetattr\u001b[39m(indexer, \u001b[38;5;124m\"\u001b[39m\u001b[38;5;124mdtype\u001b[39m\u001b[38;5;124m\"\u001b[39m, \u001b[38;5;28;01mNone\u001b[39;00m) \u001b[38;5;241m==\u001b[39m \u001b[38;5;28mbool\u001b[39m:\n",
      "File \u001b[0;32m~/miniconda3/envs/fast/lib/python3.12/site-packages/pandas/core/indexes/base.py:6200\u001b[0m, in \u001b[0;36mIndex._get_indexer_strict\u001b[0;34m(self, key, axis_name)\u001b[0m\n\u001b[1;32m   6197\u001b[0m \u001b[38;5;28;01melse\u001b[39;00m:\n\u001b[1;32m   6198\u001b[0m     keyarr, indexer, new_indexer \u001b[38;5;241m=\u001b[39m \u001b[38;5;28mself\u001b[39m\u001b[38;5;241m.\u001b[39m_reindex_non_unique(keyarr)\n\u001b[0;32m-> 6200\u001b[0m \u001b[38;5;28;43mself\u001b[39;49m\u001b[38;5;241;43m.\u001b[39;49m\u001b[43m_raise_if_missing\u001b[49m\u001b[43m(\u001b[49m\u001b[43mkeyarr\u001b[49m\u001b[43m,\u001b[49m\u001b[43m \u001b[49m\u001b[43mindexer\u001b[49m\u001b[43m,\u001b[49m\u001b[43m \u001b[49m\u001b[43maxis_name\u001b[49m\u001b[43m)\u001b[49m\n\u001b[1;32m   6202\u001b[0m keyarr \u001b[38;5;241m=\u001b[39m \u001b[38;5;28mself\u001b[39m\u001b[38;5;241m.\u001b[39mtake(indexer)\n\u001b[1;32m   6203\u001b[0m \u001b[38;5;28;01mif\u001b[39;00m \u001b[38;5;28misinstance\u001b[39m(key, Index):\n\u001b[1;32m   6204\u001b[0m     \u001b[38;5;66;03m# GH 42790 - Preserve name from an Index\u001b[39;00m\n",
      "File \u001b[0;32m~/miniconda3/envs/fast/lib/python3.12/site-packages/pandas/core/indexes/base.py:6252\u001b[0m, in \u001b[0;36mIndex._raise_if_missing\u001b[0;34m(self, key, indexer, axis_name)\u001b[0m\n\u001b[1;32m   6249\u001b[0m     \u001b[38;5;28;01mraise\u001b[39;00m \u001b[38;5;167;01mKeyError\u001b[39;00m(\u001b[38;5;124mf\u001b[39m\u001b[38;5;124m\"\u001b[39m\u001b[38;5;124mNone of [\u001b[39m\u001b[38;5;132;01m{\u001b[39;00mkey\u001b[38;5;132;01m}\u001b[39;00m\u001b[38;5;124m] are in the [\u001b[39m\u001b[38;5;132;01m{\u001b[39;00maxis_name\u001b[38;5;132;01m}\u001b[39;00m\u001b[38;5;124m]\u001b[39m\u001b[38;5;124m\"\u001b[39m)\n\u001b[1;32m   6251\u001b[0m not_found \u001b[38;5;241m=\u001b[39m \u001b[38;5;28mlist\u001b[39m(ensure_index(key)[missing_mask\u001b[38;5;241m.\u001b[39mnonzero()[\u001b[38;5;241m0\u001b[39m]]\u001b[38;5;241m.\u001b[39munique())\n\u001b[0;32m-> 6252\u001b[0m \u001b[38;5;28;01mraise\u001b[39;00m \u001b[38;5;167;01mKeyError\u001b[39;00m(\u001b[38;5;124mf\u001b[39m\u001b[38;5;124m\"\u001b[39m\u001b[38;5;132;01m{\u001b[39;00mnot_found\u001b[38;5;132;01m}\u001b[39;00m\u001b[38;5;124m not in index\u001b[39m\u001b[38;5;124m\"\u001b[39m)\n",
      "\u001b[0;31mKeyError\u001b[0m: \"['canonical_solution', 'Fixed Code'] not in index\""
     ]
    }
   ],
   "source": [
    "columns_to_display = ['canonical_solution', 'masked', 'Fixed Code']\n",
    "\n",
    "display(df[columns_to_display].head())"
   ]
  },
  {
   "cell_type": "code",
   "execution_count": 10,
   "metadata": {},
   "outputs": [],
   "source": [
    "df.to_csv('result.csv', index=False)"
   ]
  },
  {
   "cell_type": "code",
   "execution_count": null,
   "metadata": {},
   "outputs": [],
   "source": []
  },
  {
   "cell_type": "code",
   "execution_count": null,
   "metadata": {},
   "outputs": [],
   "source": []
  }
 ],
 "metadata": {
  "kernelspec": {
   "display_name": "fast",
   "language": "python",
   "name": "python3"
  },
  "language_info": {
   "codemirror_mode": {
    "name": "ipython",
    "version": 3
   },
   "file_extension": ".py",
   "mimetype": "text/x-python",
   "name": "python",
   "nbconvert_exporter": "python",
   "pygments_lexer": "ipython3",
   "version": "3.12.7"
  }
 },
 "nbformat": 4,
 "nbformat_minor": 2
}
